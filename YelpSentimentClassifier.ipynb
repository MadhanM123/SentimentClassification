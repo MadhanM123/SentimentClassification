{
 "cells": [
  {
   "attachments": {},
   "cell_type": "markdown",
   "metadata": {},
   "source": [
    "NLP Model for Sentiment Classification\n"
   ]
  },
  {
   "attachments": {},
   "cell_type": "markdown",
   "metadata": {},
   "source": [
    "Imports libraries"
   ]
  },
  {
   "cell_type": "code",
   "execution_count": 1,
   "metadata": {},
   "outputs": [],
   "source": [
    "import pandas as pd\n",
    "import numpy as np\n",
    "import matplotlib.pyplot as plt\n",
    "import seaborn as sn\n",
    "import string\n",
    "import nltk\n",
    "import spacy\n",
    "import os\n",
    "import sys\n",
    "\n",
    "from nltk.corpus import stopwords\n",
    "from nltk.corpus import stopwords\n",
    "from nltk.stem import WordNetLemmatizer\n",
    "from nltk.corpus import stopwords\n",
    "from nltk.tokenize import word_tokenize\n",
    "from spacy.lang.en.stop_words import STOP_WORDS\n",
    "\n",
    "import matplotlib.pyplot as plt\n",
    "from sklearn.feature_extraction.text import CountVectorizer\n",
    "from sklearn.model_selection import train_test_split\n",
    "from sklearn.linear_model import LogisticRegression\n",
    "from sklearn.metrics import confusion_matrix, classification_report\n",
    "from sklearn.metrics import accuracy_score\n",
    "import en_core_web_md\n",
    "text_to_nlp = en_core_web_md.load()"
   ]
  },
  {
   "attachments": {},
   "cell_type": "markdown",
   "metadata": {},
   "source": [
    "Imports data"
   ]
  },
  {
   "cell_type": "code",
   "execution_count": 2,
   "metadata": {},
   "outputs": [],
   "source": [
    "import gdown\n",
    "gdown.download(\"https://drive.google.com/uc?id=1u0tnEF2Q1a7H_gUEH-ZB3ATx02w8dF4p\",\"yelp_data.csv\",quiet = True)\n",
    "data_file = \"yelp_data.csv\""
   ]
  },
  {
   "attachments": {},
   "cell_type": "markdown",
   "metadata": {},
   "source": [
    "Explore Data"
   ]
  },
  {
   "cell_type": "code",
   "execution_count": 3,
   "metadata": {},
   "outputs": [
    {
     "name": "stdout",
     "output_type": "stream",
     "text": [
      "   stars                                               text\n",
      "0      5  My wife took me here on my birthday for breakf...\n",
      "1      5  I have no idea why some people give bad review...\n",
      "2      5  Rosie, Dakota, and I LOVE Chaparral Dog Park!!...\n",
      "3      5  General Manager Scott Petello is a good egg!!!...\n",
      "4      5  Drop what you're doing and drive here. After I...\n",
      "------------------------------------------------------------------------------------------------------------------------\n",
      "We went here on a Saturday afternoon and this place was incredibly empty.  They had brunch specials going on, including $2 bloody mary's and mimosas, but we were more in the mood for lunch.  Except for the bloody mary, I had to try one.  It came out in a high-ball-sized glass.  Boo!  But it was really tasty. Yay!  The hubby remembered a sign outside the restaurant a few weeks back that said they had Arrogant Bastard, and he got a 22 oz bottle for $4.75.  Hey, that's not fair!!\n",
      "\n",
      "Next up: the wings.  We were a bit hesitant to order them when the waitress informed us that they are \"seasoned\" but not sauced, so they can't be ordered hot.  We did ask for them crispy though, and the waitress even asked the cooks to throw them back in for a few minutes when they came out not visibly crispy.  These non-traditional wings were actually pretty damn good.  The seasoning was a little spicy and salty with just a hint of sweet.  If I were in the mood for the tang and kick of Frank's Hot Sauce, these wouldn't cut it, but otherwise they were good enough to go back again for.\n",
      "\n",
      "My entree was the Tilapia salad, and I was a bit disappointed.  The fish was a bit dry and uninspired. And the greens underneath were overdressed and wilted.  I ate the greens around the fish and picked out the almonds and Mandarin oranges, but I had to leave the mush hiding underneath the fish.\n",
      "\n",
      "It wasn't bad enough to say I wouldn't go back, but I won't be anxiously awaiting my next trip.\n",
      "I met a friend for lunch yesterday. \n",
      "\n",
      "Loved the water feature and patio walking in, if it had been warmer I would have definitely sat outside. \n",
      "\n",
      "Inside was a little dark and I guess it was all the bats around but it reminded me of \"Dusk Till Dawn\". \n",
      "\n",
      "We were seated, I hope was hoping for chips and salsa, I guess they don't serve them here? \n",
      "We weren't even offered the ones on the menu, which I probably would have declined anyway because chips and salsa should be complimentary. \n",
      "\n",
      "Anyhow I ordered the Fresh Snapper Tacos (see pics) \n",
      "There is a lot of fish there being smothered by all those peppers, but as for everything else what you see is what you get.\n",
      "\n",
      "For $15 I would have liked more than a TBSP of each, rice and beans, and a DEFINITELY more than a teaspoon of cheese and sour cream and maybe a lime or lemon. \n",
      "There was more garnish on the plate than anything. Other than that it was good. \n",
      "\n",
      "My Friend ordered the Green Chile Stew and The Green Chile Mac and Cheese (see pics) She has been here before so knew what she liked. I tasted the macaroni and thought it was pretty good too.\n",
      "\n",
      "I'll give 3 stars until I go back and try out some other things.\n",
      "DVAP....\n",
      "\n",
      "You have to go at least once in your life. It really is a neat place with alot of history. \n",
      "\n",
      "The service is great, it appears to be family run. \n",
      "\n",
      "The food is good. Better then Dennys but not as good as Mimi's. \n",
      "\n",
      "I had the all u can eat of beef ribs, lasagna, meat loaf, cat fish, chicken, mashed and diced potatoes, stuffing, rice, homemade apple pie, etc and salad bar. I know I am missing a bunch of stuff they had but you get the drift. \n",
      "\n",
      "They run specials on Prime rib and stuff so you might want to call to see what they are serving the night you go.\n",
      "There's two ways to look at this place. One is getting quality food at a good price. The other is getting a lot of food for a cheap price. I prefer the former but those who prefer the latter won't agree with my review.\n",
      "\n",
      "I thought the scramble I had was okay but nothing fantastic. I definitely didn't care for the biscuits. The food wasn't health conscious at all but if you're looking to fill up with calories and get a good-sized portion then this is your type of place. Also, I am not a fan of the diner-type ambiance... I would rather have something with more character but I'm glad I tried this place out.\n",
      "Everything was nice. The ice cream was delicious, no overwhelming alcohol taste & an interesting variety of flavors. Service was fine, place was clean. I'll go back, but only because I have a killer sweet tooth and they're in the neighborhood.\n",
      "After watching her win on Cupcake Wars I was determined to find this place (It's very well hidden)and sample the cupcakes.  I have to say I was not impressed; i make better cupcakes on my own.  More creative and not so sweet you'll go into a diabetic coma.  i did have a California BLT as well and it was a good sandwich although the bread was a little too toasted for my liking.  The staff was friendly, the ambiance was very pleasant and it was clean.  But the cupcakes...really not all that.  Sorry....\n",
      "If I could give 4 stars for atmosphere and 3 stars for food I would.\n",
      "\n",
      "With all the hype of getting a Margaritaville I guess was expecting a little more in the way of Margaritas and cheeseburgers. But I was underwhelmed with both. You can get a much better burger next door at Yardhouse and a much better selection of Margaritas from Salty Senorita. With that aside this place is quite the spectacle. It has 2 stories, a stage, fishing boat booths, and every other piece of decor that a Parrothead could love. TV's broadcast Jimmy himself rocking out and some odd montages of Parrothead outings. Live music is offered here several nights of the week and they offer 2-3 bar areas. If defiantly won't become part of the regular rotation but from time to time we might wonder in looking for our lost shaker of salt.\n",
      "Great food and awesome service! Even better that the Chef came out and personally checked on our experience. I will be back for more delicious BBQ\n",
      "As Target's go this one is standard fare. That consistency is part of their brand recognition. However, as a part of the Up-Scale Desert Ridge Shopping Center, I'd expect a bit more than a Standard Target. Don't they have some sort of a Flagship Target?\n",
      "\n",
      "Also traffic and parking can be atrocious at Desert Ridge. I drive to Target's and WalMart's much further from my house because the round trip time is less when I don't have to negotiate the teen packed Desert Ridge lot. Probably safer too.\n",
      "Returned Sunday afternoon and was  pleasantly suprised. Happy Hour is 7 days a week 3-7 pm   ; )    I recieved great service at the bar which was friendly fast and efficient(Janessa) .I ordered couple of drafts and wings with good happy hour pricing! I will be back!\n",
      "Hit or miss food. I ordered the meat plate with corned beef, zuch and asparagus for the sides. Corned beef was WAY too salty, and same thin style you get on a sandwich. I sent it back for a chicken breast bone in, which was the driest chicken I have ever had. The side veggies were good (perfectly grilled no butter), and accompanied by garlic bread. I think this place has potential but I ordered wrong. I sat at the bar and service was mediocre. Price was pretty low though. Good place to watch the game.\n",
      "Absolutely the best sushi in the valley, hands down.  The fish is fresh and their spicy tuna is like no other.  However, the service is extremely slow. We once waited 75 minutes to get our lunch and the restaurant wasn't even full.  Can't say much about the cooked food though, but the sushi is amazing.\n",
      "The florist manager is great, but i have not had a great experience with the night manager.  He seemed upset that i was stopping him from tidying the shelves to ask about putting an order in for flowers.  \n",
      "\n",
      "He said he had no clue how to order flowers and could not help me. I would need to come in and speak to the Florist Manager in the morning..... Well I work and i wanted to order flowers as a surprise thats why i was there in the evening. \n",
      "\n",
      "thought it was odd.\n",
      "Came for a friend's birthday and really was not that impressed. First of all, it took us a while to find parking as this place only has street parking and a few spots in back. On Saturday if you are there before 7pm, all alcohol was 1/2 off and some appetizers were on special. We ate dinner there and the menu was very limited. The food was okay, but our burgers were over cooked. The service was slow and it took us a while to get our check. I'd go to hang out again and have a few drinks, but I wouldn't suggest making this your regular hang out.\n",
      "Too bad about Mandalay Noodle World. Maybe if they had stressed better service and played up the Burmese aspect they would have had better luck. Who knows?\n",
      "\n",
      "Betito's moved in, and they're okay. The wife and I stopped in yesterday. I had a carne asada torta and a taco and both were about average. Their hot salsa took it up a notch though. My wife had something with diablo in the name (sorry, I'll have to look at the menu when I get home) and loved it. They do the usual menudo on weekends and the whole place is more or less along the lines of a Filiberto's--not that there's anything wrong with that. The whole bill was less that $20, so prices are good. \n",
      "\n",
      "Clean enough place, cheap, food is okay, and service is adequate. I would not go out of my way to get there, but if it is in your neighborhood it is worth a try. I'll probably stop here from time to time.\n",
      "Affordable and good.  Clean restaurant.  Will return.\n",
      "Service was faster than some of the other (but better) Indian restaurants I have been to in the area. The food was so-so. Nothing special. I enjoy spicy Indian food, but the \"hot\" was not. The only reason we ate there was the buy one get one free in the Phoenix area coupon book... no that, was a good value.\n",
      "I have been through plenty of airports around the world and I have to say that this one is on the better end. It is easy to navigate, clean (from what I have experienced), and makes getting to and returning rental cars a breeze. \n",
      "\n",
      "As in most airports, those who are not used to recent travel REALLY hold up the security check line. I would think they would want to be prepared and get through that check as quickly as possible and I held my breath when one young lady came back out in search of a 1 quart zip lock bag, fearing that we would have to evacuate the terminal for her breech, but we were all able to make our flights. \n",
      "\n",
      "A word to pet lovers who insist on traveling with their four-legged friends: allergies and asthma plague a large number of people and difficulty breathing caused by YOUR pet presents an unexpected glitch in their travel day. \n",
      "\n",
      "PLEASE CONSIDER LEAVING YOUR PETS AT HOME. An unplanned trip to the ER as a result of YOUR inconsideration should be YOUR responsibility. What do you say about that, health care providers??? \n",
      "\n",
      "In all my travels, this has been the only time I have been stuck behind the hairiest cat I have ever seen in my life because its owners had more baggage than humanly possible to manage. Clueless to others distress as the owners, their pet left wheezing, sneezing, itching, gasping travelers in its wake. Are you from Naperville?\n",
      "This is simply a poor substitute for the Los Dos Molinos in South Phoenix.  It is a pale shade of itself.  The salsa is spicy, but it doesn't have any of the same excitement.  I think its partly the downtown location in a strip mall, (not that 98% of restaurants in Phoenix aren't in strip malls).  But the Mexcian Pizza and Chicken enchiladas just didn't have the same loving kick and spice.  When you are craving Mexican downtown, this'll do in a pinch.  But make room and time to head out to the original deal, the one with 5 alarm salsa and huge patios.  Margaritas the size of one's head and bring a group of friends to indulge!\n",
      "I'm torn.\n",
      "\n",
      "\n",
      "I LOVED my $20 facial. I'll probably go back for more once Groupon and the like run out of deals.\n",
      "\n",
      "However, I also got a brow and eyelas tinting.  I wouldn't recommend that service from here.  My brows were uneven, and my lashes faded out quicker than normal.\n"
     ]
    }
   ],
   "source": [
    "yelp_full_data = pd.read_csv(data_file)\n",
    "# print(yelp_full_data.head())\n",
    "\n",
    "# print(\"------------------------------------------------------------------------------------------------------------------------\")\n",
    "#Only need stars and text data\n",
    "want_columns = [\"stars\",\"text\"]\n",
    "yelp_data = yelp_full_data[want_columns].copy()\n",
    "print(yelp_data.head())\n",
    "\n",
    "print(\"------------------------------------------------------------------------------------------------------------------------\")\n",
    "\n",
    "#Look at data for different stars\n",
    "star_num = 3\n",
    "for s in yelp_data[yelp_data[\"stars\"] == star_num][\"text\"].head(20).values:\n",
    "    print(s)"
   ]
  },
  {
   "attachments": {},
   "cell_type": "markdown",
   "metadata": {},
   "source": [
    "4-5 Stars are good reviews while 3-5 stars are bad\n",
    "\n",
    "Binary Classification"
   ]
  },
  {
   "cell_type": "code",
   "execution_count": 4,
   "metadata": {},
   "outputs": [
    {
     "name": "stdout",
     "output_type": "stream",
     "text": [
      "   stars                                               text  is_good_review\n",
      "0      5  My wife took me here on my birthday for breakf...            True\n",
      "1      5  I have no idea why some people give bad review...            True\n",
      "2      5  Rosie, Dakota, and I LOVE Chaparral Dog Park!!...            True\n",
      "3      5  General Manager Scott Petello is a good egg!!!...            True\n",
      "4      5  Drop what you're doing and drive here. After I...            True\n"
     ]
    }
   ],
   "source": [
    "def is_good(num_stars):\n",
    "    if num_stars > 3:\n",
    "        return True\n",
    "    else:\n",
    "        return False\n",
    "\n",
    "yelp_data.loc[:,\"is_good_review\"] = yelp_data[\"stars\"].apply(is_good)\n",
    "print(yelp_data.head())\n"
   ]
  },
  {
   "attachments": {},
   "cell_type": "markdown",
   "metadata": {},
   "source": [
    "Preprocessing\n",
    "\n",
    "Represents data numerically\n"
   ]
  },
  {
   "attachments": {},
   "cell_type": "markdown",
   "metadata": {},
   "source": [
    "Tokenization Example\n"
   ]
  },
  {
   "cell_type": "code",
   "execution_count": 5,
   "metadata": {},
   "outputs": [
    {
     "name": "stdout",
     "output_type": "stream",
     "text": [
      "['Everyone', 'there', 'was', 'quite', 'kind', ',', 'and', 'I', 'had', 'a', 'good', 'time', '.']\n"
     ]
    }
   ],
   "source": [
    "example_txt = \"Everyone there was quite kind, and I had a good time.\"\n",
    "tokens = word_tokenize(example_txt)\n",
    "print(tokens)"
   ]
  },
  {
   "attachments": {},
   "cell_type": "markdown",
   "metadata": {},
   "source": [
    "Stopwords Example"
   ]
  },
  {
   "cell_type": "code",
   "execution_count": 6,
   "metadata": {},
   "outputs": [
    {
     "name": "stdout",
     "output_type": "stream",
     "text": [
      "['Everyone', 'there', 'was', 'quite', 'and', 'I', 'had', 'a']\n"
     ]
    }
   ],
   "source": [
    "example_stops = []\n",
    "for word in tokens:\n",
    "    if(word.lower() in STOP_WORDS):\n",
    "        example_stops.append(word)\n",
    "print(example_stops)"
   ]
  },
  {
   "attachments": {},
   "cell_type": "markdown",
   "metadata": {},
   "source": [
    "Vectorization"
   ]
  },
  {
   "attachments": {},
   "cell_type": "markdown",
   "metadata": {},
   "source": [
    "Bag of Words\n",
    "\n",
    "    Count the number of times each word from our vocabulary was used"
   ]
  },
  {
   "attachments": {},
   "cell_type": "markdown",
   "metadata": {},
   "source": [
    "Text Cleaning"
   ]
  },
  {
   "cell_type": "code",
   "execution_count": 10,
   "metadata": {},
   "outputs": [
    {
     "name": "stdout",
     "output_type": "stream",
     "text": [
      "{'wife': 1955, 'take': 1780, 'birthday': 403, 'breakfast': 437, 'excellent': 769, ' ': 6, 'weather': 1941, 'perfect': 1351, 'sit': 1648, 'outside': 1304, 'ground': 943, 'absolute': 251, 'pleasure': 1389, 'waitress': 1924, 'food': 860, 'arrive': 326, 'quickly': 1462, 'busy': 462, 'Saturday': 194, 'morning': 1229, 'look': 1139, 'like': 1120, 'place': 1377, 'fill': 828, 'pretty': 1424, 'early': 726, 'well': 1949, '\\n\\n': 1, 'favor': 811, 'phenomenal': 1362, 'simply': 1644, 'good': 924, 'sure': 1766, 'use': 1890, 'ingredient': 1052, 'garden': 896, 'blend': 411, 'fresh': 881, 'order': 1297, 'amazing': 294, 'menu': 1199, 'white': 1952, 'truffle': 1856, 'egg': 737, 'vegetable': 1902, 'tasty': 1788, 'delicious': 658, 'come': 553, '2': 22, 'piece': 1371, 'bread': 435, 'absolutely': 252, 'meal': 1185, 'complete': 561, 'toast': 1822, 'wait': 1922, 'idea': 1034, 'people': 1348, 'bad': 357, 'review': 1533, 'go': 919, 'probably': 1434, 'fault': 810, 'case': 485, 'friend': 884, 'pm': 1392, 'past': 1336, 'Sunday': 214, 'crowded': 617, 'think': 1810, 'evening': 762, 'forever': 864, 'seat': 1596, 'say': 1584, 'girl': 912, 'waiter': 1923, 'get': 907, 'drink': 714, 'pleasant': 1386, 'host': 1017, 'server': 1609, 'price': 1427, 'decide': 648, 'want': 1929, 'share': 1618, 'baked': 363, 'spaghetti': 1691, 'calzone': 472, 'small': 1661, 'Beef': 58, 'pizza': 1376, 'try': 1860, 'huge': 1024, 'personal': 1357, '11': 17, 'awesome': 352, 'sauce': 1579, 'box': 431, 'home': 1007, 'door': 702, 'great': 935, 'reviewer': 1534, 'thing': 1809, 'issue': 1063, 'love': 1145, 'Park': 166, 'convenient': 579, 'surround': 1770, 'lot': 1142, 'path': 1340, 'desert': 666, 'field': 824, 'duck': 723, 'Scottsdale': 196, 'wonderful': 1969, 'job': 1071, 'keep': 1077, 'park': 1329, 'clean': 536, 'shade': 1615, 'find': 832, 'trash': 1847, 'can': 474, 'pick': 1365, 'locate': 1135, 'area': 322, 'let': 1111, 'dog': 699, 'run': 1555, 'play': 1384, 'Scott': 195, 'detail': 675, 'albeit': 286, 'rare': 1469, 'speak': 1692, 'treat': 1849, 'guy': 952, 'state': 1722, 'surprised': 1768, 'walk': 1926, 'totally': 1837, 'satisfied': 1575, 'mistake': 1217, 'important': 1038, 'thank': 1803, 'staff': 1714, 'customer': 630, 'life': 1116, 'drop': 720, 'drive': 717, 'eat': 732, 'day': 643, 'cute': 632, 'little': 1130, 'green': 937, 'building': 455, 'avoid': 350, 'turn': 1866, 'opening': 1291, 'sign': 1640, 'catch': 490, 'eye': 787, 'yelp': 1988, 'soul': 1684, 'new': 1254, 'open': 1290, 'easy': 731, 'decor': 650, 'smell': 1662, 'inside': 1053, 'dinner': 686, 'see': 1601, 'variety': 1898, 'pepper': 1349, 'mole': 1222, 'mahi': 1159, 'mushroom': 1239, 'wrap': 1978, 'banana': 367, 'leave': 1104, 'difficult': 681, 'choose': 524, 'far': 805, 'La': 134, 'Shrimp': 199, 'Taco': 217, 'shrimp': 1637, 'flavor': 845, 'bite': 407, 'hubby': 1023, 'salsa': 1567, 'bar': 370, 'stock': 1735, 'excited': 773, 'strawberry': 1742, 'hot': 1019, 'fact': 792, 'big': 399, 'throw': 1812, 'fruit': 887, 'yummy': 1997, 'bonus': 423, 'win': 1959, 'art': 327, 'restaurant': 1526, 'sucker': 1754, 'mexican': 1203, 'folk': 858, 'hang': 961, 'artist': 329, 'show': 1633, 'unique': 1879, 'craft': 601, 'feature': 813, 'start': 1720, 'pork': 1402, 'belly': 392, 'bun': 456, 'long': 1138, 'man': 1165, 'own': 1314, 'store': 1738, 'sweet': 1773, 'cookie': 582, 'ice': 1032, 'cream': 606, 'giant': 909, 'sandwich': 1573, 'super': 1762, 'cheap': 506, 'basically': 376, 'vietnamese': 1910, 'baguette': 361, 'oven': 1306, 'butter': 464, 'choice': 523, 'selection': 1602, 'roll': 1549, 'bring': 440, 'cash': 486, 'ATM': 48, 'card': 480, 'credit': 611, 'accept': 253, 'limited': 1124, 'time': 1817, 'right': 1542, 'BBQ': 53, 'chicken': 515, 'Chicken': 82, 'tomato': 1826, 'basil': 377, 'soup': 1686, ' \\n\\n': 8, '5': 33, 'star': 1718, 'rate': 1471, 'Jason': 126, '4': 29, 'okay': 1283, 'grow': 946, 'shop': 1627, 'world': 1973, 'stuff': 1749, 'cheese': 509, 'wine': 1961, 'tell': 1794, 'happy': 966, 'Arizona': 50, 'kind': 1083, '=)': 45, 'garlic': 897, 'favorite': 812, 'course': 596, 'age': 278, '\\n': 0, 'burger': 458, 'wing': 1962, 'atmosphere': 338, 'fun': 891, 'display': 696, 'cool': 584, 'boss': 427, 'healthy': 977, 'recommend': 1489, 'highly': 995, 'onion': 1288, 'tart': 1785, 'starter': 1721, 'noodle': 1263, 'street': 1743, 'taco': 1778, 'entree': 752, 'aid': 282, 'dish': 695, 'disappoint': 689, 'yoga': 1993, 'salad': 1563, 'chop': 525, 'table': 1777, 'plant': 1380, 'patio': 1341, 'date': 641, 'arm': 323, 'live': 1131, 'Food': 108, 'charm': 504, 'certain': 496, 'color': 550, 'opinion': 1292, 'have': 971, 'lunch': 1152, 'minute': 1214, 'close': 540, 'serve': 1608, 'perfectly': 1353, 'crisp': 614, 'chewy': 514, 'sausage': 1580, 'flavorful': 846, 'compliment': 563, 'roasted': 1547, 'red': 1491, 'finish': 835, 'quality': 1457, 'mozzarella': 1235, 'friendly': 885, 'comfortable': 555, 'bit': 405, 'nearby': 1248, 'having': 972, 'deal': 646, 'Phoenix': 171, 'Texas': 223, 'service': 1610, 'know': 1087, 'expect': 776, 'pleasantly': 1387, 'parking': 1330, 'adequate': 266, 'seating': 1597, '6': 36, 'car': 477, 'work': 1971, 'help': 988, 'hello': 987, 'soon': 1679, 'tire': 1820, 'plan': 1379, 'give': 914, 'option': 1295, 'head': 975, 'decision': 649, 'replace': 1517, 'check': 507, 'unfortunately': 1878, 'call': 470, 'boy': 432, 'exactly': 767, '45': 31, 'min': 1208, 'apologize': 310, 'need': 1250, '2nd': 26, 'sorry': 1682, 'forget': 865, 'professional': 1440, 'future': 894, 'definitely': 654, 'appointment': 318, 'online': 1289, 'believe': 390, 'manage': 1166, 'benefit': 393, 'house': 1022, 'nearly': 1249, 'poor': 1398, 'coffee': 546, 'pastry': 1339, 'music': 1241, 'will': 1957, 'beat': 384, 'dead': 645, 'horse': 1016, 'add': 262, 'offer': 1278, 'wide': 1954, 'deep': 653, 'fry': 889, 'quesadilla': 1458, 'alright': 292, 'away': 351, 'Yelp': 245, 'feel': 816, 'fitting': 840, 'yes': 1990, 'waffle': 1921, 'tea': 1790, 'nonsense': 1262, 'quick': 1461, 'ridiculously': 1541, 'year': 1986, 'fried': 883, 'damn': 636, 'seasoning': 1595, 'soft': 1673, 'crispy': 615, 'matter': 1182, 'deliver': 660, 'quiet': 1463, 'goodness': 925, 'real': 1479, 'prepare': 1416, 'Red': 182, 'cake': 468, 'fit': 839, 'fancy': 803, 'stop': 1737, 'talk': 1782, 'week': 1944, 'month': 1227, 'later': 1097, 'drool': 719, 'incredible': 1044, 'pasta': 1337, 'calamari': 469, 'taste': 1786, 'mom': 1223, 'attention': 342, 'italian': 1064, 'town': 1841, 'owner': 1315, 'helpful': 989, 'care': 481, 'provide': 1447, 'positive': 1404, 'dining': 685, 'experience': 779, 'spot': 1705, 'recommendation': 1490, 'tasting': 1787, 'event': 763, 'list': 1127, 'page': 1321, 'church': 527, 'change': 501, 'campus': 473, 'allow': 290, 'reach': 1476, 'location': 1136, 'Tempe': 222, '  ': 9, 'child': 516, 'program': 1441, 'appeal': 314, 'biscuit': 404, 'gravy': 932, 'complaint': 560, 'pack': 1318, 'website': 1942, 'luck': 1149, 'balance': 365, 'wedding': 1943, 'design': 668, 'step': 1732, 'way': 1939, 'print': 1431, 'style': 1750, 'creativity': 610, 'nail': 1244, 'crew': 613, 'stellar': 1731, 'incredibly': 1045, 'gift': 910, 'item': 1065, 'clear': 537, '8': 40, 'range': 1468, 'specialty': 1694, 'hand': 959, 'baby': 355, 'heavenly': 983, 'candle': 475, 'willing': 1958, 'base': 374, 'occasion': 1276, 'make': 1163, 'final': 830, 'annual': 304, 'sale': 1564, 'blow': 415, 'ask': 333, 'ensure': 746, 'miss': 1216, 'large': 1094, 'group': 944, 'beer': 388, 'concert': 567, 'hour': 1021, 'Happy': 120, 'Hour': 123, 'pricing': 1429, 'fair': 795, 'tap': 1784, 'center': 495, 'east': 730, 'Peaks': 167, 'reasonable': 1482, 'light': 1117, 'classy': 535, 'studio': 1748, 'body': 418, 'couple': 594, 'class': 533, 'ASU': 47, 'gym': 953, 'Spring': 203, 'practice': 1413, 'fat': 809, 'jean': 1068, 'nicely': 1257, 'rave': 1473, 'de': 644, 'stress': 1744, 'luckily': 1150, 'recently': 1487, 'space': 1689, 'bathroom': 380, 'dress': 712, 'room': 1551, 'school': 1587, 'cheesy': 511, 'gem': 902, 'truly': 1857, 'floor': 851, 'high': 993, 'ceiling': 492, 'beautiful': 385, 'decoration': 652, 'mirror': 1215, 'person': 1355, 'stare': 1719, 'focus': 857, 'entire': 750, 'outstanding': 1305, 'read': 1477, 'voice': 1916, 'ear': 725, 'shoulder': 1632, 'flow': 852, 'hurt': 1028, '3': 27, 'bike': 400, 'everybody': 764, 'low': 1148, 'kick': 1079, 'ass': 335, 'ton': 1828, 'personable': 1356, 'package': 1319, 'summer': 1760, 'end': 742, 'write': 1979, 'special': 1693, 'seafood': 1591, 'bone': 421, 'understand': 1876, 'cut': 631, 'steak': 1725, 'fantastic': 804, 'point': 1393, '\\n ': 4, 'mean': 1186, 'meat': 1187, 'perfection': 1352, 'plate': 1382, 'different': 680, 'match': 1181, 'present': 1418, 'guest': 951, 'daily': 635, 'side': 1639, 'suggest': 1756, 'mash': 1178, 'potato': 1409, 'hungry': 1026, 'Wine': 241, 'notch': 1269, 'top': 1832, 'describe': 665, 'gourmet': 927, 'adult': 269, 'literally': 1129, 'Salmon': 190, 'Steak': 209, 'roast': 1546, 'middle': 1204, 'warm': 1930, 'request': 1519, 'milk': 1207, 'fruity': 888, 'note': 1270, 'espresso': 759, 'hope': 1013, 'sub': 1751, 'pedicure': 1346, 'discover': 694, 'manicure': 1170, 'extremely': 786, 'salon': 1566, 'Bar': 55, 'Grill': 117, 'game': 895, 'reservation': 1521, 'dad': 634, 'left': 1105, 'wall': 1927, 'cover': 597, 'sport': 1704, 'assortment': 336, 'especially': 758, 'pair': 1324, 'city': 531, 'team': 1792, '=': 44, 'Light': 136, 'Chicago': 80, 'Old': 162, 'Style': 212, 'San': 192, 'etc': 761, 'worth': 1975, 'mention': 1198, 'complimentary': 564, 'platter': 1383, 'bagel': 360, 'chip': 521, 'rib': 1535, 'coconut': 545, 'combo': 552, '$': 11, 'bowl': 430, 'cole': 548, 'slaw': 1656, 'dessert': 673, 'possible': 1405, 'book': 424, 'needless': 1251, 'm': 1153, 'best': 395, 'impressive': 1041, 'create': 608, 'family': 801, 'impressed': 1040, 'Cake': 68, 'spring': 1706, 'party': 1334, 'road': 1545, 'office': 1279, '60': 37, 'husband': 1029, 'ambiance': 295, 'highlight': 994, 'trip': 1852, 'excuse': 775, '10': 15, 'die': 676, '30': 28, 'main': 1160, 'rice': 1536, 'orange': 1296, 'double': 703, 'buck': 449, 'ginger': 911, 'normally': 1266, 'fan': 802, 'fish': 837, 'grill': 939, 'sushi': 1771, 'night': 1258, 'w': 1919, 'bill': 401, 'kid': 1080, 'pull': 1451, 'noise': 1259, 'yellow': 1987, 'laugh': 1099, 'grab': 928, 'repeat': 1516, 'pleased': 1388, 'wonder': 1968, 'up': 1882, 'guess': 950, 'bright': 439, 'fiance': 823, 'Valentine': 232, 'romantic': 1550, 'Valley': 233, 'immediately': 1037, 'notice': 1271, 'dark': 639, 'tight': 1815, 'begin': 389, 'appetizer': 316, 'guacamole': 948, 'build': 454, 'Pork': 177, 'tender': 1797, 'fall': 799, 'tortilla': 1834, 'exceptional': 771, 'include': 1043, 'pineapple': 1373, 'glaze': 917, 'equally': 755, 'water': 1936, 'level': 1113, 'glass': 916, 'plenty': 1390, 'nice': 1256, 'Day': 99, 'problem': 1435, 'visit': 1914, 'hard': 967, 'portion': 1403, 'environment': 753, 'spacious': 1690, 'Beach': 57, 'knowledgeable': 1088, 'extra': 784, 'crave': 604, 'worthy': 1976, 'usual': 1891, 'pain': 1322, 'overall': 1307, 'welcome': 1948, 'neighborhood': 1253, 'darn': 640, 'smoke': 1664, 'corn': 585, 'Meh': 147, 'texture': 1801, 'crunchy': 618, 'Service': 198, 'near': 1247, 'entrance': 751, 'lol': 1137, 'remember': 1510, 'picky': 1367, 'NY': 155, 'hole': 1005, 'regular': 1500, 'stick': 1734, 'Pie': 172, 'pepperoni': 1350, 'bell': 391, 'cook': 581, 'pie': 1370, '20': 23, 'advantage': 270, 'save': 1581, 'return': 1532, 'personally': 1359, 'hold': 1004, 'watch': 1935, 'happen': 964, 'today': 1823, 'black': 408, 'lovely': 1146, 'carne': 482, 'asada': 330, 'feeling': 817, 'weekly': 1946, 'liquor': 1126, 'license': 1114, 'brunch': 447, 'relax': 1504, 'chocolate': 522, 'weekend': 1945, 'counter': 592, 'enjoy': 744, 'question': 1459, 'wander': 1928, 'bottle': 429, 'buttery': 465, 'set': 1612, '50': 34, 'instead': 1055, '14': 19, 'mark': 1174, 'spend': 1697, 'buy': 466, 'grape': 931, 'par': 1328, 'pay': 1343, 'sell': 1603, 'Sportsman': 202, 'afternoon': 277, 'drinking': 716, 'move': 1233, 'Mesa': 148, 'East': 104, 'lightly': 1119, 'slice': 1657, 'boil': 419, 'lettuce': 1112, 'fluffy': 854, 'overpower': 1311, 'destination': 674, 'realize': 1480, 'mile': 1206, 'hotel': 1020, 'stay': 1724, 'hear': 978, 'honey': 1011, 'adventure': 271, 'greet': 938, 'Zach': 249, 'explain': 780, 'allergic': 289, 'wheat': 1950, 'gluten': 918, 'free': 875, 'sized': 1652, 'presentation': 1419, 'oh': 1280, 'forward': 870, 'admit': 267, 'frequent': 879, 'travel': 1848, 'downtown': 706, 'pass': 1335, 'familiar': 800, 'news': 1255, 'establishment': 760, 'compare': 558, 'wise': 1965, 'lack': 1090, 'secret': 1599, 'bean': 382, 'seriously': 1607, 'money': 1225, 'training': 1846, 'vacation': 1893, 'Desert': 101, 'skip': 1654, 'shot': 1631, 'disappointed': 690, 'hide': 992, 'rating': 1472, 'site': 1649, 'indian': 1046, 'imagine': 1036, 'memory': 1196, 'curry': 628, 'introduce': 1060, 'ago': 279, 'Francisco': 109, 'New': 158, 'York': 247, 'wrong': 1980, 'plus': 1391, 'God': 112, '18': 21, 'strong': 1746, 'cashier': 487, 'moment': 1224, 'phone': 1364, 'flower': 853, '+': 12, 'product': 1439, 'cafe': 467, 'iced': 1033, 'line': 1125, 'cup': 625, 'ready': 1478, 'mix': 1218, 'rich': 1537, 'creamy': 607, 'caramel': 478, 'melt': 1194, 'valley': 1895, 'pho': 1363, 'hippie': 999, 'pour': 1411, 'oil': 1281, 'land': 1093, 'tiny': 1818, 'mouth': 1232, 'easily': 729, 'anyways': 308, 'flat': 843, 'bag': 359, 'half': 956, 'skin': 1653, 'soda': 1672, 'true': 1855, 'afraid': 276, 'organic': 1299, 'Market': 142, 'funny': 893, 'originally': 1301, 'Joe': 129, 'Farm': 107, 'search': 1592, 'lay': 1100, 'stand': 1715, 'number': 1272, 'dressing': 713, 'size': 1651, 'homemade': 1008, 'load': 1132, 'cupcake': 626, 'maybe': 1183, 'restroom': 1528, 'similar': 1642, 'NYC': 156, 'toilet': 1825, 'individual': 1047, 'ok': 1282, 'worry': 1974, 'YUM': 243, 'view': 1911, 'olive': 1285, 'season': 1593, 'pesto': 1360, 'squash': 1710, 'hit': 1003, 'touch': 1838, 'actually': 261, 'enjoyable': 745, 'Sephora': 197, 'earth': 728, 'possibly': 1406, 'dream': 711, 'brand': 434, 'extensive': 783, 'Christmas': 89, 'face': 789, 'hate': 970, 'strip': 1745, 'late': 1096, 'heaven': 982, 'urban': 1888, 'stab': 1712, 'shirt': 1623, 'wear': 1940, 'reason': 1481, 'mind': 1209, 'trouble': 1853, 'Wednesday': 238, 'conversation': 580, 'completely': 562, 'name': 1245, 'proud': 1445, 'chair': 499, 'cocktail': 544, 'typically': 1871, 'rock': 1548, 'delivery': 661, 'aside': 332, 'cheesecake': 510, 'push': 1455, 'casual': 488, 'round': 1552, 'ship': 1622, 'chance': 500, 'Cheesecake': 78, 'thick': 1807, 'hint': 997, 'sour': 1687, 'tongue': 1829, 'demand': 662, 'whip': 1951, 'efficient': 736, 'shit': 1624, 'appropriate': 321, 'sort': 1683, 'interesting': 1056, 'Mike': 151, 'chain': 498, 'wish': 1966, 'crab': 600, 'apple': 317, 'barely': 371, 'manager': 1168, 'annoying': 303, 'joint': 1072, '1/2': 14, 'bake': 362, 'classic': 534, 'topping': 1833, 'not': 1268, 'd': 633, 'local': 1134, 'Pizza': 175, 'word': 1970, 'freshly': 882, 'kitchen': 1086, 'PS': 163, 'airy': 284, 'original': 1300, 'chef': 512, 'lucky': 1151, 'vibe': 1908, 'attend': 341, 'pressure': 1421, 'discount': 693, 'grinder': 940, 'everytime': 766, 'tip': 1819, 'glad': 915, 'fig': 825, 'produce': 1438, 'department': 663, 'boneless': 422, 'butcher': 463, 'freezer': 877, 'section': 1600, 'AJ': 46, 'holiday': 1006, 'simple': 1643, 'grain': 929, 'mustard': 1242, 'carry': 484, 'practically': 1412, 'culinary': 623, 'desire': 670, 'recipe': 1488, 'appreciate': 319, 'internet': 1058, 'freeway': 876, 'company': 557, 'Kitchen': 131, 'employee': 740, 'loud': 1143, 'weird': 1947, 'pretend': 1422, 'Cowboy': 96, 'Ciao': 90, 'Town': 229, 'Stetson': 210, 'serving': 1611, 'salmon': 1565, 'Fry': 111, 'greasy': 934, 'chunk': 526, 'bacon': 356, 'Chocolate': 87, 'pot': 1408, 'authentic': 346, 'remind': 1511, 'beverage': 396, 'fabulous': 788, 'boyfriend': 433, 'enter': 747, 'register': 1498, 'booth': 425, 'sad': 1559, 'mongolian': 1226, 'sick': 1638, 'bf': 398, 'beef': 387, 'veggie': 1904, 'warn': 1931, 'got': 926, 'syrup': 1774, 'son': 1677, '9': 42, 'complain': 559, 'hash': 969, 'brown': 444, 'lemonade': 1109, 'mint': 1213, 'pancake': 1325, 'ham': 957, 'w/': 1920, 'french': 878, 'Ranch': 180, 'consistently': 572, 'Breakfast': 65, 'Club': 94, 'juice': 1075, 'squeeze': 1711, 'jewelry': 1070, 'informative': 1051, 'hell': 986, 'mushy': 1240, 'overly': 1310, 'bitch': 406, 'deli': 657, 'one': 1287, 'shell': 1621, 'break': 436, 'n': 1243, 'vegetarian': 1903, 'vegan': 1901, 'spinach': 1701, 'artichoke': 328, 'dip': 687, 'Mexico': 150, 'chile': 517, 'fi': 822, 'everyday': 765, 'country': 593, 'club': 543, 'heat': 981, 'pool': 1397, 'member': 1195, 'rent': 1513, 'basis': 378, 'regardless': 1497, 'facility': 791, 'Chandler': 76, 'opportunity': 1293, 'performance': 1354, 'decorate': 651, 'story': 1739, 'dancer': 638, 'picture': 1369, 'bartender': 373, 'daughter': 642, 'Starbucks': 207, 'finger': 834, 'girlfriend': 913, 'carrot': 483, 'spicy': 1700, 'lamb': 1092, 'scoop': 1588, 'type': 1869, 'crepe': 612, 'frozen': 886, 'Burger': 66, 'consume': 573, 'honestly': 1010, 'valet': 1894, 'panini': 1326, 'bruschetta': 448, 'value': 1896, 'ricotta': 1538, 'second': 1598, 'steep': 1729, 'agree': 280, '1': 13, 'old': 1284, ' \\n': 7, 'dance': 637, 'outdoor': 1302, 'diner': 684, 'fast': 808, 'hawaiian': 973, 'turkey': 1865, 'mall': 1164, 'designer': 669, 'woman': 1967, 'shopper': 1628, 'City': 91, 'spectacular': 1696, 'steakhouse': 1726, 'Jim': 128, 'sexy': 1614, 'oyster': 1316, 'leg': 1107, 'mac': 1154, 'winner': 1963, 'short': 1630, 'proceed': 1436, 'bed': 386, 'Paradise': 165, 'stomach': 1736, 'situation': 1650, 'Friday': 110, 'breast': 438, 'provolone': 1448, 'press': 1420, 'pickle': 1366, 'fountain': 871, 'refill': 1494, 'Ice': 125, 'Cream': 97, 'vanilla': 1897, 'cozy': 599, 'hop': 1012, 'consider': 569, 'crowd': 616, 'pretentious': 1423, 'intimate': 1059, 'setting': 1613, 'business': 461, 'cause': 491, 'follow': 859, 'crazy': 605, 'bunch': 457, 'takeout': 1781, 'foodie': 861, 'eggplant': 738, 'heart': 979, 'particular': 1332, 'corner': 586, 'standard': 1716, 'hostess': 1018, 'delish': 659, 'mango': 1169, 'mood': 1228, 'Thai': 224, 'sadly': 1560, 'getting': 908, 'hurry': 1027, 'bargain': 372, 'spa': 1688, 'hopefully': 1014, 'Camelback': 70, 'rundown': 1556, 'massage': 1180, 'shower': 1634, 'steam': 1727, 'savor': 1582, 'lounge': 1144, 'usually': 1892, 'screen': 1590, 'negative': 1252, 'gyro': 954, 'pita': 1374, 'greek': 936, 'gelato': 901, 'relaxation': 1505, 'exception': 770, 'reasonably': 1483, 'buffet': 453, 'omelet': 1286, 'wow': 1977, 'station': 1723, 'candy': 476, 'particularly': 1333, 'regret': 1499, 'mountain': 1231, 'meet': 1191, 'ahead': 281, 'available': 347, '15': 20, 'figure': 826, 'surprisingly': 1769, 'receive': 1485, 'response': 1524, 'additional': 264, 'tuck': 1862, 'fix': 841, 'normal': 1265, 'dirty': 688, 'smile': 1663, 'coupon': 595, 'wild': 1956, 'expectation': 777, 'affordable': 275, 'surprise': 1767, 'therapist': 1806, 'rarely': 1470, 'young': 1995, 'college': 549, 'student': 1747, 'attitude': 344, 'AZ': 49, 'straight': 1740, 'lighting': 1118, 'margarita': 1171, 'salty': 1569, 'martini': 1176, 'modern': 1220, 'mad': 1157, 'gas': 898, 'snack': 1668, '25': 25, '100': 16, 'sample': 1570, 'resturant': 1529, 'pre': 1414, 'filet': 827, 'sum': 1759, 'Green': 116, 'buffalo': 452, 'tonight': 1830, 'sun': 1761, 'dry': 722, 'Mac': 139, 'wtf': 1981, 'combination': 551, 'pudding': 1450, 'tomorrow': 1827, 'continue': 577, 'latte': 1098, 'gel': 900, 'slightly': 1659, 'crust': 619, 'post': 1407, 'joke': 1073, 'Coffee': 95, 'update': 1883, 'prove': 1446, 'hangout': 962, 'patron': 1342, 'um': 1873, 'handle': 960, 'express': 782, 'degree': 655, 'dollar': 700, 'prompt': 1443, 'purchase': 1453, 'supply': 1763, 'fully': 890, 'browse': 446, 'draw': 709, 'paint': 1323, 'Golden': 113, 'sister': 1647, 'marinated': 1173, 'pricey': 1428, 'Yum': 248, 'total': 1836, 'contact': 574, 'answer': 305, 'promptly': 1444, 'bother': 428, 'process': 1437, 'ticket': 1814, 'depend': 664, 'decent': 647, 'alfredo': 288, 'avocado': 349, 'snow': 1670, 'budget': 451, 'venue': 1905, 'prior': 1432, 'peanut': 1345, 'jelly': 1069, 'happily': 965, 'cry': 620, 'sugar': 1755, 'bakery': 364, 'fine': 833, '40': 30, 'opt': 1294, 'filling': 829, 'clothing': 542, 'Lucky': 138, 'kinda': 1084, 'funky': 892, 'Macy': 140, 'Nordstrom': 159, 'shoe': 1625, 'accessory': 254, 'punch': 1452, 'clothe': 541, 'generally': 904, 'confused': 568, 'stack': 1713, 'pile': 1372, 'act': 257, 'movie': 1234, 'theater': 1804, 'Bobby': 63, 'Q': 178, 'St.': 205, 'Louis': 137, 'Cheese': 77, 'sooo': 1680, 'freak': 873, 'mini': 1210, 'yeah': 1985, 'hip': 998, 'cinnamon': 530, 'major': 1162, 'dude': 724, 'twice': 1868, 'minimum': 1211, 'appear': 315, 'escape': 757, 'interior': 1057, 'forgettable': 866, 'burrito': 460, 'pico': 1368, 'support': 1764, 'safe': 1561, 'dietary': 678, 'restriction': 1527, 'Restaurant': 184, 'certainly': 497, 'non': 1260, 'saturday': 1578, 'alternative': 293, 'dig': 682, 'cheer': 508, 'video': 1909, 'alot': 291, 've': 1900, 'thumb': 1813, 'judge': 1074, 'air': 283, 'charge': 503, 'retail': 1531, 'information': 1050, 'finally': 831, 'OMG': 161, 'California': 69, 'ring': 1543, 'anytime': 307, 'previous': 1426, 'term': 1799, 'array': 324, 'theme': 1805, 'attentive': 343, 'chat': 505, 'temperature': 1795, 'god': 921, 'generic': 905, 'eatery': 733, 'salt': 1568, 'al': 285, 'comfy': 556, 'general': 903, '24': 24, 'asian': 331, 'block': 413, 'importantly': 1039, 'burn': 459, 's': 1558, '12': 18, 'Tacos': 218, 'odd': 1277, 'Vig': 236, 'chill': 519, 'cherry': 513, 'refreshing': 1495, 'lime': 1123, 'mixed': 1219, 'pretzel': 1425, 'calorie': 471, 'yogurt': 1994, 'satisfying': 1577, 'seasonal': 1594, 'bear': 383, 'brownie': 445, 'rainbow': 1465, 'sprinkle': 1707, 'prepared': 1417, 'average': 348, 'Mexican': 149, 'somewhat': 1676, 'tv': 1867, 'lobster': 1133, 'expensive': 778, 'golf': 923, 'accommodate': 255, 'consistent': 571, 'donut': 701, 'Philly': 169, 'dough': 704, 'mild': 1205, 'to': 1821, 'frequently': 880, 'guarantee': 949, 'market': 1175, 'wake': 1925, 'Matt': 145, 'key': 1078, 'natural': 1246, 'grocery': 941, 'suppose': 1765, 'guac': 947, 'Chris': 88, 'Bianco': 59, 'Central': 75, 'tend': 1796, 'Echo': 105, 'meeting': 1192, 'relaxing': 1507, 'couch': 590, 'mug': 1236, 'paper': 1327, 'actual': 260, 'Curry': 98, 'Chipotle': 86, 'yum': 1996, 'hummus': 1025, 'traditional': 1842, 'spice': 1698, 'cold': 547, 'sound': 1685, 'rest': 1525, 'thai': 1802, 'generous': 906, 'feed': 815, 'shoot': 1626, 'savory': 1583, 'Salt': 191, 'sneak': 1669, 'polite': 1395, 'energy': 743, 'Yay': 244, 'trendy': 1851, 'cent': 494, 'window': 1960, 'unlike': 1880, 'Hot': 122, 'Chick': 81, 'Piestewa': 173, 'foot': 862, 'climb': 539, 'factor': 793, 'trail': 1844, 'explore': 781, 'female': 820, 'peak': 1344, 'ridiculous': 1540, 'american': 297, 'apparently': 313, 'kill': 1081, 'swear': 1772, 'fajita': 797, 'Marquee': 143, 'single': 1645, 'band': 368, 'fail': 794, 'listen': 1128, 'whore': 1953, 'mother': 1230, 'nope': 1264, 'slow': 1660, 'rush': 1557, 'scene': 1585, 'y': 1982, 'tax': 1789, 'till': 1816, 'minor': 1212, 'trend': 1850, 'fake': 798, 'comfort': 554, 'custard': 629, 'hey': 991, 'upper': 1885, 'grant': 930, \"i'm\": 1031, 'heck': 985, 'fly': 856, 'honest': 1009, 'bored': 426, 'difference': 679, 'towel': 1840, 'terrible': 1800, 'cat': 489, 'doctor': 698, 'private': 1433, 'send': 1604, 'teriyaki': 1798, 'japanese': 1067, 'pop': 1399, 'hardly': 968, 'strange': 1741, 'culture': 624, 'heavy': 984, 'learn': 1102, 'lead': 1101, 'brisket': 441, 'correct': 588, 'thin': 1808, 'animal': 300, 'pet': 1361, 'vet': 1907, 'result': 1530, 'put': 1456, 'World': 242, 'maintain': 1161, 'substitute': 1752, 'gross': 942, 'Monday': 153, 'White': 239, 'mashed': 1179, 'signature': 1641, 'splurge': 1703, 'winter': 1964, 'respond': 1523, 'Dr.': 102, 'relaxed': 1506, 'tooth': 1831, 'entertain': 748, 'delay': 656, 'berry': 394, 'Bakery': 54, 'Bread': 64, 'ravioli': 1474, 'version': 1906, 'split': 1702, 'lemon': 1108, 'rental': 1514, 'worker': 1972, 'pollo': 1396, 'repair': 1515, 'solid': 1674, 'deserve': 667, 'sink': 1646, 'awful': 353, 'bird': 402, 'Whitey': 240, '500': 35, 'dread': 710, 'Tuesday': 230, '7': 38, 'health': 976, 'unusual': 1881, 'dozen': 707, 'Ave': 51, 'Randy': 181, 'marinara': 1172, 'meatball': 1188, 'Classic': 92, 'plain': 1378, 'chili': 518, 'plastic': 1381, 'basket': 379, 'batter': 381, 'ball': 366, 'recall': 1484, 'menudo': 1200, 'hangover': 963, 'hazelnut': 974, 'truck': 1854, 'schedule': 1586, 'square': 1709, 'smoothie': 1666, 'oz': 1317, 'involve': 1062, 'bloody': 414, 'mary': 1177, 'attach': 339, 'resort': 1522, 'tough': 1839, 'Pho': 170, 'cuisine': 622, 'ya': 1983, 'Turkey': 231, 'spiciness': 1699, 'steamed': 1728, 'flush': 855, 'advertise': 272, 'able': 250, 'likely': 1121, 'require': 1520, 'eh': 739, 'smooth': 1665, 'specifically': 1695, 'suit': 1758, 'lie': 1115, 'character': 502, 'Hannah': 119, 'Big': 60, 'ride': 1539, 'Caesar': 67, 'Salad': 189, 'hearty': 980, 'current': 627, 'beware': 397, 'flight': 849, 'inform': 1049, 'Times': 226, 'Chef': 79, 'cooking': 583, 'Laser': 135, 'laser': 1095, 'hair': 955, 'waste': 1934, 'wax': 1938, 'refer': 1493, 'shave': 1619, 'skirt': 1655, 'Sprinkles': 204, 'hype': 1030, 'celebrate': 493, 'dive': 697, 'drizzle': 718, 'cramped': 602, 'chinese': 520, 'container': 576, 'management': 1167, 'upgrade': 1884, 'coworker': 598, 'u': 1872, 'despite': 672, 'assume': 337, 'personality': 1358, 'jalapeno': 1066, 'hamburger': 958, 'earn': 727, 'raw': 1475, 'diet': 677, 'example': 768, 'gear': 899, 'North': 160, 'felt': 819, 'men': 1197, 'urinal': 1889, 'anymore': 306, 'watering': 1937, 'extreme': 785, 'form': 867, 'crap': 603, 'insist': 1054, 'mayo': 1184, 'broken': 442, 'shredded': 1636, 'broth': 443, 'moist': 1221, 'fashion': 807, 'shame': 1617, 'soooo': 1681, 'freaking': 874, 'afford': 274, 'machine': 1156, 'polish': 1394, 'lady': 1091, 'tall': 1783, 'train': 1845, 'boat': 417, 'pad': 1320, 'toss': 1835, 'sand': 1571, 'and/or': 299, '\\n  ': 5, 'sake': 1562, 'sashimi': 1574, 'tail': 1779, 'multiple': 1237, 'Place': 176, 'hispanic': 1002, 'hike': 996, 'lover': 1147, 'outdoors': 1303, 'downside': 705, 'lose': 1141, 'concern': 566, 'munch': 1238, 'awhile': 354, 'overwhelming': 1313, 'staple': 1717, 'Tom': 227, 'Pad': 164, 'creative': 609, 'app': 312, 'hipster': 1000, 'fire': 836, 'amount': 298, 'feta': 821, 'paste': 1338, 'song': 1678, 'truth': 1859, 'pure': 1454, 'flee': 848, 'gold': 922, 'control': 578, 'tear': 1793, 'People': 168, 'teach': 1791, 'drum': 721, '\\n\\n\\n': 2, 'blue': 416, 'attempt': 340, 'prefer': 1415, 'facial': 790, 'wash': 1933, 'trust': 1858, 'bleu': 412, 'groupon': 945, 'social': 1671, 'Tai': 219, 'sprout': 1708, 'Mrs.': 154, 'recent': 1486, 'corporate': 587, 'arrival': 325, 'force': 863, 'disappointment': 692, 'tab': 1776, 'Delicious': 100, 'Sweet': 215, 'Republic': 183, 'House': 124, 'leftover': 1106, 'herb': 990, 'stew': 1733, 'tofu': 1824, 'activity': 259, 'shelf': 1620, 'ordinary': 1298, 'invite': 1061, 'alcohol': 287, 'drinker': 715, 'loose': 1140, 'advice': 273, 'enchilada': 741, 'relleno': 1508, 'inexpensive': 1048, 'fairly': 796, '75': 39, 'ambience': 296, 'vodka': 1915, 'redeem': 1492, 'separate': 1606, 'suck': 1753, 'basic': 375, 'nonetheless': 1261, 'yesterday': 1991, 'steer': 1730, 'carb': 479, 'Target': 220, 'bland': 410, 'Staff': 206, 'vintage': 1913, 'bank': 369, 'nut': 1273, 'LGO': 132, 'shred': 1635, 'o': 1274, 'overcook': 1308, 'juicy': 1076, 'blah': 409, 'vs.': 1918, 'volume': 1917, 'cost': 589, 'claim': 532, 'relate': 1501, 'contain': 575, 'bomb': 420, 'Black': 62, 'raise': 1466, 'Caroline': 72, '95': 43, 'leather': 1103, 'concept': 565, 'goat': 920, 'chutney': 528, 'obviously': 1275, 'la': 1089, 'frankly': 872, 'typical': 1870, 'Good': 114, 'excessive': 772, 'fare': 806, 'addition': 263, 'liking': 1122, 'solo': 1675, 'cucumber': 621, 'Vegan': 234, 'Chili': 84, 'cilantro': 529, 'meh': 1193, 'Great': 115, 'vary': 1899, 'fee': 814, 'improve': 1042, 'Sacks': 188, 'horrible': 1015, 'prime': 1430, 'parmesan': 1331, 'asparagus': 334, 'LOL': 133, 'Kahlua': 130, 'Rumbi': 187, 'Hawaii': 121, 'shopping': 1629, 'sandwhich': 1572, 'underwhelme': 1877, 'pitcher': 1375, 'Casey': 73, 'fellow': 818, 'pee': 1347, 'relatively': 1503, 'smother': 1667, 'killer': 1082, 'ruin': 1554, 'count': 591, 'traffic': 1843, 'mess': 1201, 'entertainment': 749, 'clearly': 538, 'relative': 1502, 'Pita': 174, 'pub': 1449, 'zucchini': 1998, 'popular': 1401, 'thrift': 1811, 'overcooked': 1309, 'consist': 570, '~': 1999, 'anniversary': 301, 'shake': 1616, 'Center': 74, 'dine': 683, 'approach': 320, 'apology': 311, 'China': 85, 'apart': 309, 'slide': 1658, 'Sandbar': 193, 'system': 1775, 'sense': 1605, 'quiche': 1460, 'excitement': 774, 'formula': 868, 'vinegar': 1912, 'T': 216, 'English': 106, 'Biltmore': 61, 'Tomato': 228, 'underneath': 1875, 'Thursday': 225, 'Mill': 152, 'remain': 1509, 'fishy': 838, 'Victoria': 235, 'medium': 1190, 'edible': 735, 'yelper': 1989, 'yard': 1984, 'Carin': 71, '   ': 10, 'Ridge': 185, 'Marriott': 144, 'river': 1544, 'ignore': 1035, 'flatbread': 844, 'potential': 1410, 'suggestion': 1757, 'remodel': 1512, 'north': 1267, 'equipment': 756, 'king': 1085, 'raman': 1467, 'scratch': 1589, 'Guy': 118, 'Chile': 83, 'Basil': 56, 'upscale': 1886, '\\n\\n    ': 3, 'Yelpers': 246, 'W': 237, 'yike': 1992, 'address': 265, 'Neiman': 157, 'quinoa': 1464, 'Subway': 213, 'tuna': 1863, 'macaroni': 1155, 'Mediterranean': 146, 'Duck': 103, '80': 41, 'disappointing': 691, 'playing': 1385, 'Stars': 208, 'satisfy': 1576, 'grease': 933, '4th': 32, 'bud': 450, 'upstairs': 1887, 'Mai': 141, 'wasabi': 1932, 'lesson': 1110, 'tune': 1864, 'fortunately': 869, 'popcorn': 1400, 'drag': 708, 'QC': 179, 'Clinic': 93, 'Tea': 221, 'Store': 211, 'Jersey': 127, 'equal': 754, 'magazine': 1158, 'Ringo': 186, 'active': 258, 'flan': 842, 'uncomfortable': 1874, 'tube': 1861, 'float': 850, 'adore': 268, 'B': 52, 'desk': 671, 'mediocre': 1189, 'overpriced': 1312, 'Som': 200, 'reply': 1518, 'edamame': 734, 'promise': 1442, 'annoy': 302, 'badly': 358, 'flavorless': 847, 'message': 1202, 'rude': 1553, 'Spinach': 201, 'acknowledge': 256, 'aunty': 345, 'refuse': 1496, 'hire': 1001}\n",
      "2000\n"
     ]
    }
   ],
   "source": [
    "X_text = yelp_data[\"text\"]\n",
    "y = yelp_data[\"is_good_review\"]\n",
    "\n",
    "def tokenize(txt):\n",
    "    clean_tokens = []\n",
    "    for token in text_to_nlp(txt):\n",
    "        if (not token.is_stop) and (token.lemma_ != \"-PRON-\") and (not token.is_punct): # PRON is the lemma for personal pronouns\n",
    "            clean_tokens.append(token.lemma_)\n",
    "    return clean_tokens\n",
    "\n",
    "bow_transform = CountVectorizer(analyzer=tokenize,max_features=2000).fit(X_text)\n",
    "\n",
    "print(bow_transform.vocabulary_)\n",
    "\n",
    "print(len(bow_transform.vocabulary_))\n",
    "\n"
   ]
  },
  {
   "attachments": {},
   "cell_type": "markdown",
   "metadata": {},
   "source": [
    "Transform each review into BoW"
   ]
  },
  {
   "cell_type": "code",
   "execution_count": 13,
   "metadata": {},
   "outputs": [
    {
     "name": "stdout",
     "output_type": "stream",
     "text": [
      "     0     1     2     3     4     5     6     7     8     9     ...  1990  \\\n",
      "0       0     3     0     0     0     0     8     0     0     0  ...     0   \n",
      "1       0     2     0     0     0     0     1     0     0     0  ...     0   \n",
      "2       0     2     0     0     0     0     1     0     0     0  ...     0   \n",
      "3       0     1     0     0     0     0     0     0     0     0  ...     0   \n",
      "4       0     3     0     0     0     0    18     0     0     0  ...     0   \n",
      "..    ...   ...   ...   ...   ...   ...   ...   ...   ...   ...  ...   ...   \n",
      "995     0     0     0     0     0     0     2     0     1     0  ...     0   \n",
      "996     0     0     0     0     0     0     1     0     0     0  ...     0   \n",
      "997     0    11     0     0     0     0     0     0     0     0  ...     0   \n",
      "998     0     0     0     0     0     0     0     0     0     0  ...     0   \n",
      "999     3     0     0     0     1     0     3     0     0     0  ...     0   \n",
      "\n",
      "     1991  1992  1993  1994  1995  1996  1997  1998  1999  \n",
      "0       0     0     0     0     0     0     0     0     0  \n",
      "1       0     0     0     0     0     0     0     0     0  \n",
      "2       0     0     0     0     0     0     0     0     0  \n",
      "3       0     0     0     0     0     0     0     0     0  \n",
      "4       0     0     0     0     0     0     1     0     0  \n",
      "..    ...   ...   ...   ...   ...   ...   ...   ...   ...  \n",
      "995     0     0     0     0     0     0     0     0     0  \n",
      "996     0     0     0     0     0     0     0     0     0  \n",
      "997     0     0     0     0     0     0     0     0     0  \n",
      "998     0     0     0     0     0     0     0     0     0  \n",
      "999     0     0     0     0     0     0     0     0     0  \n",
      "\n",
      "[1000 rows x 2000 columns]\n",
      "1000\n"
     ]
    }
   ],
   "source": [
    "X = bow_transform.transform(X_text)\n",
    "print(pd.DataFrame(X.toarray()))\n",
    "print(X_text.size)"
   ]
  },
  {
   "attachments": {},
   "cell_type": "markdown",
   "metadata": {},
   "source": [
    "USING LOGISTIC REGRESSION\n",
    "\n",
    "    -Train and Test"
   ]
  },
  {
   "cell_type": "code",
   "execution_count": 19,
   "metadata": {},
   "outputs": [],
   "source": [
    "X_train, X_test, y_train, y_test = train_test_split(X,y, test_size = 0.2, random_state = 101)"
   ]
  },
  {
   "attachments": {},
   "cell_type": "markdown",
   "metadata": {},
   "source": [
    "    Fitting\n"
   ]
  },
  {
   "cell_type": "code",
   "execution_count": 23,
   "metadata": {},
   "outputs": [
    {
     "data": {
      "text/html": [
       "<style>#sk-container-id-3 {color: black;background-color: white;}#sk-container-id-3 pre{padding: 0;}#sk-container-id-3 div.sk-toggleable {background-color: white;}#sk-container-id-3 label.sk-toggleable__label {cursor: pointer;display: block;width: 100%;margin-bottom: 0;padding: 0.3em;box-sizing: border-box;text-align: center;}#sk-container-id-3 label.sk-toggleable__label-arrow:before {content: \"▸\";float: left;margin-right: 0.25em;color: #696969;}#sk-container-id-3 label.sk-toggleable__label-arrow:hover:before {color: black;}#sk-container-id-3 div.sk-estimator:hover label.sk-toggleable__label-arrow:before {color: black;}#sk-container-id-3 div.sk-toggleable__content {max-height: 0;max-width: 0;overflow: hidden;text-align: left;background-color: #f0f8ff;}#sk-container-id-3 div.sk-toggleable__content pre {margin: 0.2em;color: black;border-radius: 0.25em;background-color: #f0f8ff;}#sk-container-id-3 input.sk-toggleable__control:checked~div.sk-toggleable__content {max-height: 200px;max-width: 100%;overflow: auto;}#sk-container-id-3 input.sk-toggleable__control:checked~label.sk-toggleable__label-arrow:before {content: \"▾\";}#sk-container-id-3 div.sk-estimator input.sk-toggleable__control:checked~label.sk-toggleable__label {background-color: #d4ebff;}#sk-container-id-3 div.sk-label input.sk-toggleable__control:checked~label.sk-toggleable__label {background-color: #d4ebff;}#sk-container-id-3 input.sk-hidden--visually {border: 0;clip: rect(1px 1px 1px 1px);clip: rect(1px, 1px, 1px, 1px);height: 1px;margin: -1px;overflow: hidden;padding: 0;position: absolute;width: 1px;}#sk-container-id-3 div.sk-estimator {font-family: monospace;background-color: #f0f8ff;border: 1px dotted black;border-radius: 0.25em;box-sizing: border-box;margin-bottom: 0.5em;}#sk-container-id-3 div.sk-estimator:hover {background-color: #d4ebff;}#sk-container-id-3 div.sk-parallel-item::after {content: \"\";width: 100%;border-bottom: 1px solid gray;flex-grow: 1;}#sk-container-id-3 div.sk-label:hover label.sk-toggleable__label {background-color: #d4ebff;}#sk-container-id-3 div.sk-serial::before {content: \"\";position: absolute;border-left: 1px solid gray;box-sizing: border-box;top: 0;bottom: 0;left: 50%;z-index: 0;}#sk-container-id-3 div.sk-serial {display: flex;flex-direction: column;align-items: center;background-color: white;padding-right: 0.2em;padding-left: 0.2em;position: relative;}#sk-container-id-3 div.sk-item {position: relative;z-index: 1;}#sk-container-id-3 div.sk-parallel {display: flex;align-items: stretch;justify-content: center;background-color: white;position: relative;}#sk-container-id-3 div.sk-item::before, #sk-container-id-3 div.sk-parallel-item::before {content: \"\";position: absolute;border-left: 1px solid gray;box-sizing: border-box;top: 0;bottom: 0;left: 50%;z-index: -1;}#sk-container-id-3 div.sk-parallel-item {display: flex;flex-direction: column;z-index: 1;position: relative;background-color: white;}#sk-container-id-3 div.sk-parallel-item:first-child::after {align-self: flex-end;width: 50%;}#sk-container-id-3 div.sk-parallel-item:last-child::after {align-self: flex-start;width: 50%;}#sk-container-id-3 div.sk-parallel-item:only-child::after {width: 0;}#sk-container-id-3 div.sk-dashed-wrapped {border: 1px dashed gray;margin: 0 0.4em 0.5em 0.4em;box-sizing: border-box;padding-bottom: 0.4em;background-color: white;}#sk-container-id-3 div.sk-label label {font-family: monospace;font-weight: bold;display: inline-block;line-height: 1.2em;}#sk-container-id-3 div.sk-label-container {text-align: center;}#sk-container-id-3 div.sk-container {/* jupyter's `normalize.less` sets `[hidden] { display: none; }` but bootstrap.min.css set `[hidden] { display: none !important; }` so we also need the `!important` here to be able to override the default hidden behavior on the sphinx rendered scikit-learn.org. See: https://github.com/scikit-learn/scikit-learn/issues/21755 */display: inline-block !important;position: relative;}#sk-container-id-3 div.sk-text-repr-fallback {display: none;}</style><div id=\"sk-container-id-3\" class=\"sk-top-container\"><div class=\"sk-text-repr-fallback\"><pre>LogisticRegression()</pre><b>In a Jupyter environment, please rerun this cell to show the HTML representation or trust the notebook. <br />On GitHub, the HTML representation is unable to render, please try loading this page with nbviewer.org.</b></div><div class=\"sk-container\" hidden><div class=\"sk-item\"><div class=\"sk-estimator sk-toggleable\"><input class=\"sk-toggleable__control sk-hidden--visually\" id=\"sk-estimator-id-3\" type=\"checkbox\" checked><label for=\"sk-estimator-id-3\" class=\"sk-toggleable__label sk-toggleable__label-arrow\">LogisticRegression</label><div class=\"sk-toggleable__content\"><pre>LogisticRegression()</pre></div></div></div></div></div>"
      ],
      "text/plain": [
       "LogisticRegression()"
      ]
     },
     "execution_count": 23,
     "metadata": {},
     "output_type": "execute_result"
    }
   ],
   "source": [
    "logistic_model = LogisticRegression()\n",
    "\n",
    "logistic_model.fit(X_train,y_train)"
   ]
  },
  {
   "attachments": {},
   "cell_type": "markdown",
   "metadata": {},
   "source": [
    "    Testing\n",
    "    "
   ]
  },
  {
   "cell_type": "code",
   "execution_count": 24,
   "metadata": {},
   "outputs": [
    {
     "name": "stdout",
     "output_type": "stream",
     "text": [
      "0.75\n"
     ]
    }
   ],
   "source": [
    "y_pred = logistic_model.predict(X_test)\n",
    "acc_score = accuracy_score(y_test,y_pred)\n",
    "print(acc_score)"
   ]
  },
  {
   "attachments": {},
   "cell_type": "markdown",
   "metadata": {},
   "source": [
    "Trying reviews"
   ]
  },
  {
   "cell_type": "code",
   "execution_count": 36,
   "metadata": {
    "tags": []
   },
   "outputs": [
    {
     "name": "stdout",
     "output_type": "stream",
     "text": [
      "BAD\n"
     ]
    }
   ],
   "source": [
    "example_review = \"The food was quite disappointing. I expected better from such a renowned restaurant.\"\n",
    "pred = logistic_model.predict(bow_transform.transform([example_review]))\n",
    "\n",
    "if(pred):\n",
    "    print(\"GOOD\")\n",
    "else:\n",
    "    print(\"BAD\")"
   ]
  }
 ],
 "metadata": {
  "kernelspec": {
   "display_name": "Python 3",
   "language": "python",
   "name": "python3"
  },
  "language_info": {
   "codemirror_mode": {
    "name": "ipython",
    "version": 3
   },
   "file_extension": ".py",
   "mimetype": "text/x-python",
   "name": "python",
   "nbconvert_exporter": "python",
   "pygments_lexer": "ipython3",
   "version": "3.11.1"
  },
  "orig_nbformat": 4
 },
 "nbformat": 4,
 "nbformat_minor": 2
}
