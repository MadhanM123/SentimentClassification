{
 "cells": [
  {
   "attachments": {},
   "cell_type": "markdown",
   "metadata": {},
   "source": [
    "NLP Model for Sentiment Classification\n"
   ]
  },
  {
   "attachments": {},
   "cell_type": "markdown",
   "metadata": {},
   "source": [
    "Imports libraries"
   ]
  },
  {
   "cell_type": "code",
   "execution_count": 1,
   "metadata": {},
   "outputs": [],
   "source": [
    "import pandas as pd\n",
    "import numpy as np\n",
    "import matplotlib.pyplot as plt\n",
    "import seaborn as sn\n",
    "import string\n",
    "import nltk\n",
    "import spacy\n",
    "import os\n",
    "import sys\n",
    "\n",
    "from nltk.corpus import stopwords\n",
    "from nltk.corpus import stopwords\n",
    "from nltk.stem import WordNetLemmatizer\n",
    "from nltk.corpus import stopwords\n",
    "from nltk.tokenize import word_tokenize\n",
    "from spacy.lang.en.stop_words import STOP_WORDS\n",
    "\n",
    "import matplotlib.pyplot as plt\n",
    "from sklearn.feature_extraction.text import CountVectorizer\n",
    "from sklearn.model_selection import train_test_split\n",
    "from sklearn.linear_model import LogisticRegression\n",
    "from sklearn.metrics import confusion_matrix, classification_report\n",
    "from sklearn.metrics import accuracy_score\n",
    "import en_core_web_md\n",
    "text_to_nlp = en_core_web_md.load()"
   ]
  },
  {
   "attachments": {},
   "cell_type": "markdown",
   "metadata": {},
   "source": [
    "Imports data"
   ]
  },
  {
   "cell_type": "code",
   "execution_count": 2,
   "metadata": {},
   "outputs": [],
   "source": [
    "import gdown\n",
    "gdown.download(\"https://drive.google.com/uc?id=1u0tnEF2Q1a7H_gUEH-ZB3ATx02w8dF4p\",\"yelp_data.csv\",quiet = True)\n",
    "data_file = \"yelp_data.csv\""
   ]
  },
  {
   "attachments": {},
   "cell_type": "markdown",
   "metadata": {},
   "source": [
    "Explore Data"
   ]
  },
  {
   "cell_type": "code",
   "execution_count": 9,
   "metadata": {},
   "outputs": [
    {
     "name": "stdout",
     "output_type": "stream",
     "text": [
      "   stars                                               text\n",
      "0      5  My wife took me here on my birthday for breakf...\n",
      "1      5  I have no idea why some people give bad review...\n",
      "2      5  Rosie, Dakota, and I LOVE Chaparral Dog Park!!...\n",
      "3      5  General Manager Scott Petello is a good egg!!!...\n",
      "4      5  Drop what you're doing and drive here. After I...\n",
      "------------------------------------------------------------------------------------------------------------------------\n",
      "We went here on a Saturday afternoon and this place was incredibly empty.  They had brunch specials going on, including $2 bloody mary's and mimosas, but we were more in the mood for lunch.  Except for the bloody mary, I had to try one.  It came out in a high-ball-sized glass.  Boo!  But it was really tasty. Yay!  The hubby remembered a sign outside the restaurant a few weeks back that said they had Arrogant Bastard, and he got a 22 oz bottle for $4.75.  Hey, that's not fair!!\n",
      "\n",
      "Next up: the wings.  We were a bit hesitant to order them when the waitress informed us that they are \"seasoned\" but not sauced, so they can't be ordered hot.  We did ask for them crispy though, and the waitress even asked the cooks to throw them back in for a few minutes when they came out not visibly crispy.  These non-traditional wings were actually pretty damn good.  The seasoning was a little spicy and salty with just a hint of sweet.  If I were in the mood for the tang and kick of Frank's Hot Sauce, these wouldn't cut it, but otherwise they were good enough to go back again for.\n",
      "\n",
      "My entree was the Tilapia salad, and I was a bit disappointed.  The fish was a bit dry and uninspired. And the greens underneath were overdressed and wilted.  I ate the greens around the fish and picked out the almonds and Mandarin oranges, but I had to leave the mush hiding underneath the fish.\n",
      "\n",
      "It wasn't bad enough to say I wouldn't go back, but I won't be anxiously awaiting my next trip.\n",
      "I met a friend for lunch yesterday. \n",
      "\n",
      "Loved the water feature and patio walking in, if it had been warmer I would have definitely sat outside. \n",
      "\n",
      "Inside was a little dark and I guess it was all the bats around but it reminded me of \"Dusk Till Dawn\". \n",
      "\n",
      "We were seated, I hope was hoping for chips and salsa, I guess they don't serve them here? \n",
      "We weren't even offered the ones on the menu, which I probably would have declined anyway because chips and salsa should be complimentary. \n",
      "\n",
      "Anyhow I ordered the Fresh Snapper Tacos (see pics) \n",
      "There is a lot of fish there being smothered by all those peppers, but as for everything else what you see is what you get.\n",
      "\n",
      "For $15 I would have liked more than a TBSP of each, rice and beans, and a DEFINITELY more than a teaspoon of cheese and sour cream and maybe a lime or lemon. \n",
      "There was more garnish on the plate than anything. Other than that it was good. \n",
      "\n",
      "My Friend ordered the Green Chile Stew and The Green Chile Mac and Cheese (see pics) She has been here before so knew what she liked. I tasted the macaroni and thought it was pretty good too.\n",
      "\n",
      "I'll give 3 stars until I go back and try out some other things.\n",
      "DVAP....\n",
      "\n",
      "You have to go at least once in your life. It really is a neat place with alot of history. \n",
      "\n",
      "The service is great, it appears to be family run. \n",
      "\n",
      "The food is good. Better then Dennys but not as good as Mimi's. \n",
      "\n",
      "I had the all u can eat of beef ribs, lasagna, meat loaf, cat fish, chicken, mashed and diced potatoes, stuffing, rice, homemade apple pie, etc and salad bar. I know I am missing a bunch of stuff they had but you get the drift. \n",
      "\n",
      "They run specials on Prime rib and stuff so you might want to call to see what they are serving the night you go.\n",
      "There's two ways to look at this place. One is getting quality food at a good price. The other is getting a lot of food for a cheap price. I prefer the former but those who prefer the latter won't agree with my review.\n",
      "\n",
      "I thought the scramble I had was okay but nothing fantastic. I definitely didn't care for the biscuits. The food wasn't health conscious at all but if you're looking to fill up with calories and get a good-sized portion then this is your type of place. Also, I am not a fan of the diner-type ambiance... I would rather have something with more character but I'm glad I tried this place out.\n",
      "Everything was nice. The ice cream was delicious, no overwhelming alcohol taste & an interesting variety of flavors. Service was fine, place was clean. I'll go back, but only because I have a killer sweet tooth and they're in the neighborhood.\n",
      "After watching her win on Cupcake Wars I was determined to find this place (It's very well hidden)and sample the cupcakes.  I have to say I was not impressed; i make better cupcakes on my own.  More creative and not so sweet you'll go into a diabetic coma.  i did have a California BLT as well and it was a good sandwich although the bread was a little too toasted for my liking.  The staff was friendly, the ambiance was very pleasant and it was clean.  But the cupcakes...really not all that.  Sorry....\n",
      "If I could give 4 stars for atmosphere and 3 stars for food I would.\n",
      "\n",
      "With all the hype of getting a Margaritaville I guess was expecting a little more in the way of Margaritas and cheeseburgers. But I was underwhelmed with both. You can get a much better burger next door at Yardhouse and a much better selection of Margaritas from Salty Senorita. With that aside this place is quite the spectacle. It has 2 stories, a stage, fishing boat booths, and every other piece of decor that a Parrothead could love. TV's broadcast Jimmy himself rocking out and some odd montages of Parrothead outings. Live music is offered here several nights of the week and they offer 2-3 bar areas. If defiantly won't become part of the regular rotation but from time to time we might wonder in looking for our lost shaker of salt.\n",
      "Great food and awesome service! Even better that the Chef came out and personally checked on our experience. I will be back for more delicious BBQ\n",
      "As Target's go this one is standard fare. That consistency is part of their brand recognition. However, as a part of the Up-Scale Desert Ridge Shopping Center, I'd expect a bit more than a Standard Target. Don't they have some sort of a Flagship Target?\n",
      "\n",
      "Also traffic and parking can be atrocious at Desert Ridge. I drive to Target's and WalMart's much further from my house because the round trip time is less when I don't have to negotiate the teen packed Desert Ridge lot. Probably safer too.\n",
      "Returned Sunday afternoon and was  pleasantly suprised. Happy Hour is 7 days a week 3-7 pm   ; )    I recieved great service at the bar which was friendly fast and efficient(Janessa) .I ordered couple of drafts and wings with good happy hour pricing! I will be back!\n",
      "Hit or miss food. I ordered the meat plate with corned beef, zuch and asparagus for the sides. Corned beef was WAY too salty, and same thin style you get on a sandwich. I sent it back for a chicken breast bone in, which was the driest chicken I have ever had. The side veggies were good (perfectly grilled no butter), and accompanied by garlic bread. I think this place has potential but I ordered wrong. I sat at the bar and service was mediocre. Price was pretty low though. Good place to watch the game.\n",
      "Absolutely the best sushi in the valley, hands down.  The fish is fresh and their spicy tuna is like no other.  However, the service is extremely slow. We once waited 75 minutes to get our lunch and the restaurant wasn't even full.  Can't say much about the cooked food though, but the sushi is amazing.\n",
      "The florist manager is great, but i have not had a great experience with the night manager.  He seemed upset that i was stopping him from tidying the shelves to ask about putting an order in for flowers.  \n",
      "\n",
      "He said he had no clue how to order flowers and could not help me. I would need to come in and speak to the Florist Manager in the morning..... Well I work and i wanted to order flowers as a surprise thats why i was there in the evening. \n",
      "\n",
      "thought it was odd.\n",
      "Came for a friend's birthday and really was not that impressed. First of all, it took us a while to find parking as this place only has street parking and a few spots in back. On Saturday if you are there before 7pm, all alcohol was 1/2 off and some appetizers were on special. We ate dinner there and the menu was very limited. The food was okay, but our burgers were over cooked. The service was slow and it took us a while to get our check. I'd go to hang out again and have a few drinks, but I wouldn't suggest making this your regular hang out.\n",
      "Too bad about Mandalay Noodle World. Maybe if they had stressed better service and played up the Burmese aspect they would have had better luck. Who knows?\n",
      "\n",
      "Betito's moved in, and they're okay. The wife and I stopped in yesterday. I had a carne asada torta and a taco and both were about average. Their hot salsa took it up a notch though. My wife had something with diablo in the name (sorry, I'll have to look at the menu when I get home) and loved it. They do the usual menudo on weekends and the whole place is more or less along the lines of a Filiberto's--not that there's anything wrong with that. The whole bill was less that $20, so prices are good. \n",
      "\n",
      "Clean enough place, cheap, food is okay, and service is adequate. I would not go out of my way to get there, but if it is in your neighborhood it is worth a try. I'll probably stop here from time to time.\n",
      "Affordable and good.  Clean restaurant.  Will return.\n",
      "Service was faster than some of the other (but better) Indian restaurants I have been to in the area. The food was so-so. Nothing special. I enjoy spicy Indian food, but the \"hot\" was not. The only reason we ate there was the buy one get one free in the Phoenix area coupon book... no that, was a good value.\n",
      "I have been through plenty of airports around the world and I have to say that this one is on the better end. It is easy to navigate, clean (from what I have experienced), and makes getting to and returning rental cars a breeze. \n",
      "\n",
      "As in most airports, those who are not used to recent travel REALLY hold up the security check line. I would think they would want to be prepared and get through that check as quickly as possible and I held my breath when one young lady came back out in search of a 1 quart zip lock bag, fearing that we would have to evacuate the terminal for her breech, but we were all able to make our flights. \n",
      "\n",
      "A word to pet lovers who insist on traveling with their four-legged friends: allergies and asthma plague a large number of people and difficulty breathing caused by YOUR pet presents an unexpected glitch in their travel day. \n",
      "\n",
      "PLEASE CONSIDER LEAVING YOUR PETS AT HOME. An unplanned trip to the ER as a result of YOUR inconsideration should be YOUR responsibility. What do you say about that, health care providers??? \n",
      "\n",
      "In all my travels, this has been the only time I have been stuck behind the hairiest cat I have ever seen in my life because its owners had more baggage than humanly possible to manage. Clueless to others distress as the owners, their pet left wheezing, sneezing, itching, gasping travelers in its wake. Are you from Naperville?\n",
      "This is simply a poor substitute for the Los Dos Molinos in South Phoenix.  It is a pale shade of itself.  The salsa is spicy, but it doesn't have any of the same excitement.  I think its partly the downtown location in a strip mall, (not that 98% of restaurants in Phoenix aren't in strip malls).  But the Mexcian Pizza and Chicken enchiladas just didn't have the same loving kick and spice.  When you are craving Mexican downtown, this'll do in a pinch.  But make room and time to head out to the original deal, the one with 5 alarm salsa and huge patios.  Margaritas the size of one's head and bring a group of friends to indulge!\n",
      "I'm torn.\n",
      "\n",
      "\n",
      "I LOVED my $20 facial. I'll probably go back for more once Groupon and the like run out of deals.\n",
      "\n",
      "However, I also got a brow and eyelas tinting.  I wouldn't recommend that service from here.  My brows were uneven, and my lashes faded out quicker than normal.\n"
     ]
    }
   ],
   "source": [
    "yelp_full_data = pd.read_csv(data_file)\n",
    "# print(yelp_full_data.head())\n",
    "\n",
    "# print(\"------------------------------------------------------------------------------------------------------------------------\")\n",
    "#Only need stars and text data\n",
    "want_columns = [\"stars\",\"text\"]\n",
    "yelp_data = yelp_full_data[want_columns].copy()\n",
    "print(yelp_data.head())\n",
    "\n",
    "print(\"------------------------------------------------------------------------------------------------------------------------\")\n",
    "\n",
    "#Look at data for different stars\n",
    "star_num = 3\n",
    "for s in yelp_data[yelp_data[\"stars\"] == star_num][\"text\"].head(20).values:\n",
    "    print(s)"
   ]
  },
  {
   "attachments": {},
   "cell_type": "markdown",
   "metadata": {},
   "source": [
    "4-5 Stars are good reviews while 3-5 stars are bad\n",
    "\n",
    "Binary Classification"
   ]
  },
  {
   "cell_type": "code",
   "execution_count": 11,
   "metadata": {},
   "outputs": [
    {
     "name": "stdout",
     "output_type": "stream",
     "text": [
      "   stars                                               text  is_good_review\n",
      "0      5  My wife took me here on my birthday for breakf...            True\n",
      "1      5  I have no idea why some people give bad review...            True\n",
      "2      5  Rosie, Dakota, and I LOVE Chaparral Dog Park!!...            True\n",
      "3      5  General Manager Scott Petello is a good egg!!!...            True\n",
      "4      5  Drop what you're doing and drive here. After I...            True\n"
     ]
    }
   ],
   "source": [
    "def is_good(num_stars):\n",
    "    if num_stars > 3:\n",
    "        return True\n",
    "    else:\n",
    "        return False\n",
    "\n",
    "yelp_data.loc[:,\"is_good_review\"] = yelp_data[\"stars\"].apply(is_good)\n",
    "print(yelp_data.head())\n"
   ]
  }
 ],
 "metadata": {
  "kernelspec": {
   "display_name": "Python 3",
   "language": "python",
   "name": "python3"
  },
  "language_info": {
   "codemirror_mode": {
    "name": "ipython",
    "version": 3
   },
   "file_extension": ".py",
   "mimetype": "text/x-python",
   "name": "python",
   "nbconvert_exporter": "python",
   "pygments_lexer": "ipython3",
   "version": "3.11.1"
  },
  "orig_nbformat": 4
 },
 "nbformat": 4,
 "nbformat_minor": 2
}
