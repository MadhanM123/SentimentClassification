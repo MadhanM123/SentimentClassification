{
 "cells": [
  {
   "attachments": {},
   "cell_type": "markdown",
   "metadata": {},
   "source": [
    "NLP Model for Sentiment Classification\n"
   ]
  },
  {
   "attachments": {},
   "cell_type": "markdown",
   "metadata": {},
   "source": [
    "Imports libraries"
   ]
  },
  {
   "cell_type": "code",
   "execution_count": 8,
   "metadata": {},
   "outputs": [],
   "source": [
    "import pandas as pd\n",
    "import numpy as np\n",
    "import matplotlib.pyplot as plt\n",
    "import seaborn as sn\n",
    "import string\n",
    "import nltk\n",
    "import spacy\n",
    "import os\n",
    "import sys\n",
    "\n",
    "from nltk.corpus import stopwords\n",
    "from nltk.corpus import stopwords\n",
    "from nltk.stem import WordNetLemmatizer\n",
    "from nltk.corpus import stopwords\n",
    "from nltk.tokenize import word_tokenize\n",
    "from spacy.lang.en.stop_words import STOP_WORDS\n",
    "\n",
    "import matplotlib.pyplot as plt\n",
    "from sklearn.feature_extraction.text import CountVectorizer\n",
    "from sklearn.model_selection import train_test_split\n",
    "from sklearn.linear_model import LogisticRegression\n",
    "from sklearn.metrics import confusion_matrix, classification_report\n",
    "from sklearn.metrics import accuracy_score\n",
    "import en_core_web_md\n",
    "text_to_nlp = en_core_web_md.load()"
   ]
  },
  {
   "attachments": {},
   "cell_type": "markdown",
   "metadata": {},
   "source": [
    "Imports data"
   ]
  },
  {
   "cell_type": "code",
   "execution_count": 9,
   "metadata": {},
   "outputs": [],
   "source": [
    "import gdown\n",
    "gdown.download(\"https://drive.google.com/uc?id=1u0tnEF2Q1a7H_gUEH-ZB3ATx02w8dF4p\",\"yelp_data.csv\",quiet = True)\n",
    "data_file = \"yelp_data.csv\""
   ]
  },
  {
   "attachments": {},
   "cell_type": "markdown",
   "metadata": {},
   "source": [
    "Explore Data"
   ]
  },
  {
   "cell_type": "code",
   "execution_count": 16,
   "metadata": {},
   "outputs": [
    {
     "name": "stdout",
     "output_type": "stream",
     "text": [
      "              business_id  stars  \\\n",
      "0  9yKzy9PApeiPPOUJEtnvkg      5   \n",
      "1  ZRJwVLyzEJq1VAihDhYiow      5   \n",
      "2  _1QQZuf4zZOyFCvXc0o6Vg      5   \n",
      "3  6ozycU1RpktNG2-1BroVtw      5   \n",
      "4  zp713qNhx8d9KCJJnrw1xA      5   \n",
      "\n",
      "                                                text                 user_id  \\\n",
      "0  My wife took me here on my birthday for breakf...  rLtl8ZkDX5vH5nAx9C3q5Q   \n",
      "1  I have no idea why some people give bad review...  0a2KyEL0d3Yb1V6aivbIuQ   \n",
      "2  Rosie, Dakota, and I LOVE Chaparral Dog Park!!...  uZetl9T0NcROGOyFfughhg   \n",
      "3  General Manager Scott Petello is a good egg!!!...  vYmM4KTsC8ZfQBg-j5MWkw   \n",
      "4  Drop what you're doing and drive here. After I...  wFweIWhv2fREZV_dYkz_1g   \n",
      "\n",
      "   cool  useful  funny  \n",
      "0     2       5      0  \n",
      "1     0       0      0  \n",
      "2     1       2      0  \n",
      "3     0       0      0  \n",
      "4     7       7      4  \n",
      "------------------------------------------------------------------------------------------------------------------------\n",
      "   stars                                               text\n",
      "0      5  My wife took me here on my birthday for breakf...\n",
      "1      5  I have no idea why some people give bad review...\n",
      "2      5  Rosie, Dakota, and I LOVE Chaparral Dog Park!!...\n",
      "3      5  General Manager Scott Petello is a good egg!!!...\n",
      "4      5  Drop what you're doing and drive here. After I...\n",
      "------------------------------------------------------------------------------------------------------------------------\n",
      "My wife took me here on my birthday for breakfast and it was excellent.  The weather was perfect which made sitting outside overlooking their grounds an absolute pleasure.  Our waitress was excellent and our food arrived quickly on the semi-busy Saturday morning.  It looked like the place fills up pretty quickly so the earlier you get here the better.\n",
      "\n",
      "Do yourself a favor and get their Bloody Mary.  It was phenomenal and simply the best I've ever had.  I'm pretty sure they only use ingredients from their garden and blend them fresh when you order it.  It was amazing.\n",
      "\n",
      "While EVERYTHING on the menu looks excellent, I had the white truffle scrambled eggs vegetable skillet and it was tasty and delicious.  It came with 2 pieces of their griddled bread with was amazing and it absolutely made the meal complete.  It was the best \"toast\" I've ever had.\n",
      "\n",
      "Anyway, I can't wait to go back!\n",
      "I have no idea why some people give bad reviews about this place. It goes to show you, you can please everyone. They are probably griping about something that their own fault...there are many people like that.\n",
      "\n",
      "In any case, my friend and I arrived at about 5:50 PM this past Sunday. It was pretty crowded, more than I thought for a Sunday evening and thought we would have to wait forever to get a seat but they said we'll be seated when the girl comes back from seating someone else. We were seated at 5:52 and the waiter came and got our drink orders. Everyone was very pleasant from the host that seated us to the waiter to the server. The prices were very good as well. We placed our orders once we decided what we wanted at 6:02. We shared the baked spaghetti calzone and the small \"Here's The Beef\" pizza so we can both try them. The calzone was huge and we got the smallest one (personal) and got the small 11\" pizza. Both were awesome! My friend liked the pizza better and I liked the calzone better. The calzone does have a sweetish sauce but that's how I like my sauce!\n",
      "\n",
      "We had to box part of the pizza to take it home and we were out the door by 6:42. So, everything was great and not like these bad reviewers. That goes to show you that  you have to try these things yourself because all these bad reviewers have some serious issues.\n",
      "Rosie, Dakota, and I LOVE Chaparral Dog Park!!! It's very convenient and surrounded by a lot of paths, a desert xeriscape, baseball fields, ballparks, and a lake with ducks.\n",
      "\n",
      "The Scottsdale Park and Rec Dept. does a wonderful job of keeping the park clean and shaded.  You can find trash cans and poopy-pick up mitts located all over the park and paths.\n",
      "\n",
      "The fenced in area is huge to let the dogs run, play, and sniff!\n",
      "General Manager Scott Petello is a good egg!!! Not to go into detail, but let me assure you if you have any issues (albeit rare) speak with Scott and treat the guy with some respect as you state your case and I'd be surprised if you don't walk out totally satisfied as I just did. Like I always say..... \"Mistakes are inevitable, it's how we recover from them that is important\"!!!\n",
      "\n",
      "Thanks to Scott and his awesome staff. You've got a customer for life!! .......... :^)\n",
      "Drop what you're doing and drive here. After I ate here I had to go back the next day for more.  The food is that good.\n",
      "\n",
      "This cute little green building may have gone competely unoticed if I hadn't been driving down Palm Rd to avoid construction.  While waiting to turn onto 16th Street the \"Grand Opening\" sign caught my eye and my little yelping soul leaped for joy!  A new place to try!\n",
      "\n",
      "It looked desolate from the outside but when I opened the door I was put at easy by the decor, smell and cleanliness inside.  I ordered dinner for two, to go.  The menu was awesome.  I loved seeing all the variety: poblano peppers, mole, mahi mahi, mushrooms...something wrapped in banana leaves.  It made it difficult to choose something.  Here's what I've had so far: La Condesa Shrimp Burro and Baja Sur Dogfish Shark Taco.  They are both were very delicious meals but the shrimp burro stole the show.  So much flavor.  I snagged some bites from my hubbys mole and mahi mahi burros- mmmm such a delight.  The salsa bar is endless.  I really stocked up.  I was excited to try the strawberry salsa but it was too hot, in fact it all was, but I'm a big wimp when it comes to hot peppers. The horchata is handmade and delicious.  They throw pecans and some fruit in there too which is a yummy bonus!\n",
      "\n",
      "As if the good food wasn't enough to win me over the art in this restaurant sho did!  I'm a sucker for Mexican folk art and Frida Kahlo is my Oprah.  There's a painting of her and Diego hanging over the salsa bar, it's amazing.  All the paintings are great, love the artist.\n",
      "Nobuo shows his unique talents with everything on the menu. Carefully crafted features with much to drink. Start with the pork belly buns and a stout. Then go on until you can no longer.\n",
      "The oldish man who owns the store is as sweet as can be.  Perhaps sweeter than the cookies or ice cream.\n",
      "\n",
      "Here's the lowdown: Giant ice cream cookie sandwiches for super cheap.  The flavor permutations are basically endless.  I had snickerdoodle with cookies and cream ice cream.  It was marvelous.\n",
      "Wonderful Vietnamese sandwich shoppe. Their baguettes are great hot out of the oven with butter or in one of their many sandwich choices. They have a modest selection of baked goods along with some of the best egg rolls around. Bring cash or your ATM card as no credit cards are accepted but they have an ATM on premises.\n",
      "They have a limited time thing going on right now with BBQ chicken pizza (not sure how long it's going to last) but let me just say it was amazing.  Probably THE best BBQ Chicken pizza I have ever had.  I have tried other things too, like the tomato basil soup, and many of their sandwiches ... very good, very fresh - every time.  \n",
      "\n",
      "The 5 stars is for the pizza, but if I were to rate Jason's Deli over all they would get about a 4.\n",
      "okay this is the best place EVER! i grew up shopping at the one in los gatos, and the one in Oakville. i was shock when i saw the best store in the world in Scottsdale and then not surprised at all. the have all the good stuff. from cheese down to wine. i can't tell you how happy i am that this store is here in Arizona. now if we could just get dean and deluca!\n",
      "This place shouldn't even be reviewed - because it is the kind of place I want to keep for myself...  =)\n",
      "first time my friend and I went there... it was delicious!  The food, garlic knots our favorite and of course the wine!  We will be going back ALOT!\n",
      "I love this place! I have been coming here for ages.\n",
      "My favorites: Elsa's Chicken sandwich, any of their burgers, dragon chicken wings, china's little chicken sandwich, and the hot pepper chicken sandwich. The atmosphere is always fun and the art they display is very abstract but totally cool!\n",
      "I love love LOVE this place. My boss (who is into healthy eating) recommended this place. I went over with some highly skeptical friends and one dinner was enough to convert them into believers! The food here is so good! We had the Shrimp dumplings and the Onion tart as starters. We ordered the Shirataki noodles and street tacos as entrees. So also ordered the Kale-aid. All of the dishes were yummy. \n",
      "I have gone back many times since then and have never been disappointed! I have gone after yoga to get some Kale salad or the chicken chopped salad. I always have to get the Kale aid. \n",
      "Once, a guy at the next table, uprooted a whole plant by mistake (on the patio) and was highly embarrassed as was his date! Ever since, I have very careful not to throw my arms around as I can be quite clumsy sometimes! I do NOT want to be banned from my favorite place for my clumsiness! I don't think I can live without True Food!\n",
      "Disclaimer: Like many of you, I am a sucker for charming little homes that have been re-purposed into restaurants. I am certain that this colored my opinion of Cibo.\n",
      "\n",
      "That being said, I absolutely love having lunch here the other day. I unknowingly arrived at 2:05 (5 minutes after they close between lunch and dinner) but was served anyway. I had the salscicia sandwich and a side of fruit. The sandwich was excellent, served on perfectly crisp, chewy saltimbocca bread. The sausage was flavorful and was complimented by roasted red peppers and onions. All this was finished off with a great quality mozzarella cheese. Really, really delicious.\n",
      "\n",
      "I should also say that the atmosphere here was friendly and  comfortable, though a bit small. This would be a great place to hang out if you lived nearby.\n",
      "Never having dealt with a Discount Tire in Phoenix before (only in Texas, and their service has been great all the time), I came in not knowing what kind of service to expect. I was pleasantly surprised! The store had a good amount of parking, and the store front was clean, open and had adequate seating around the perimeters. There were already 5-6 people sitting and waiting for their cars to be finished, and 2 people waiting infront of me to see a representative. All the guys working there were busy helping someone, yet were saying hello to us and reassuring they'd get to us very soon. I didn't wait an unneccesary amount of time and then was helped by Wally. He inspected my tires, recommended a plan of action gave me options, and we headed back into the store. After I made my decision to replace 2 of the tires, he checked their stock, and unfortunately they didn't have them there. BUT he called another store and had them picked up for the next morning, so I could just come back the next day to this same store and get those bad boys installed. Great! The prices were not as heafty (relief), and although there were a good amount of people the next day waiting for their cars to also be serviced, it took exactly the amount of time they'd told me (45 min). They apologized for the wait, but no need for that! The guy who helped me on the 2nd day (I'm sorry I forgot his name) was also very professional and great. I recommend this store and will be bringing my car here in the future most definitely. Thanks, guys!\n",
      "\n",
      "TIP: If you know you need to bring your car in, you can make an appointment with them online. They take walk-ins, but I believe it helps them manage their customers easier, and that in turn benefits you.\n",
      "(Un)fortunately for me, lux is close to my house.  I walk there nearly every day and am much poorer because of it.  The coffee and pastries are amazing.  They always play really great music too!\n",
      "Fred M. pretty much said what I would say, so I won't beat a dead horse.  I'll add, though, that they offer a wide variety of deep-fried quesadillas.  \n",
      "\n",
      "Did you catch that?\n",
      "\n",
      "DEEP FRIED QUESADILLAS!\n",
      "Alright, I have been away from Yelp for quite some time, and I feel that this place is fitting to be my comeback review...\n",
      "\n",
      "Chicken and Waffles.  Yes, chicken and M'Fin waffles.  \n",
      "\n",
      "In the ghetto?  Check\n",
      "Has sweet tea?  Check\n",
      "Has no-nonsense, quick service?  Check\n",
      "Ridiculously long wait?  Check\n",
      "Best thing that I have eaten in the last year?  Check\n",
      "\n",
      "I have to say, not the best fried chicken I have ever had, but pretty damn good- it could use more seasoning.  Now the waffles, probably the best ever...  The waffles are deliciously soft inside, a little crispy out with a wonderful cinammoness to them.  The seating is cramped, but it doesn't matter as soon as your food is delivered your table goes quiet, you get tunnel vision and after the first bite you are taken away to an orgy of goodness.\n",
      "\n",
      "If you are in Phoenix, this is a requirement.  Come real early or be prepared to wait.  Don't forget to order the Red Velvet cake and they have Kool-Aid if that fits your fancy.  Even after I came home from Arizona, I couldn't stop talking about LoLo's for like 2 weeks.  Shoot, two months later and I am still drooling thinking about it...\n",
      "This restaurant is incredible, and has the best pasta carbonara and the best tiramisu I've had in my life. All the food is wonderful, though. The calamari is not fried. The bread served with dinner comes right out of the oven, and the tomatoes are the freshest I've tasted outside of my mom's own garden. This is great attention to detail.\n",
      "\n",
      "I can no longer eat at any other Italian restaurant without feeling slighted. This is the first place I want take out-of-town visitors I'm looking to impress.\n",
      "\n",
      "The owner, Jon, is helpful, friendly, and really cares about providing a positive dining experience. He's spot on with his wine recommendations, and he organizes wine tasting events which you can find out about by joining the mailing list or Facebook page.\n"
     ]
    }
   ],
   "source": [
    "yelp_full_data = pd.read_csv(data_file)\n",
    "print(yelp_full_data.head())\n",
    "\n",
    "print(\"------------------------------------------------------------------------------------------------------------------------\")\n",
    "#Only need stars and text data\n",
    "want_columns = [\"stars\",\"text\"]\n",
    "yelp_data = yelp_full_data[want_columns]\n",
    "print(yelp_data.head())\n",
    "\n",
    "print(\"------------------------------------------------------------------------------------------------------------------------\")\n",
    "\n",
    "#Look at data for different stars\n",
    "star_num = 5\n",
    "for s in yelp_data[yelp_data[\"stars\"] == star_num][\"text\"].head(20).values:\n",
    "    print(s)"
   ]
  }
 ],
 "metadata": {
  "kernelspec": {
   "display_name": "Python 3",
   "language": "python",
   "name": "python3"
  },
  "language_info": {
   "codemirror_mode": {
    "name": "ipython",
    "version": 3
   },
   "file_extension": ".py",
   "mimetype": "text/x-python",
   "name": "python",
   "nbconvert_exporter": "python",
   "pygments_lexer": "ipython3",
   "version": "3.11.1"
  },
  "orig_nbformat": 4
 },
 "nbformat": 4,
 "nbformat_minor": 2
}
